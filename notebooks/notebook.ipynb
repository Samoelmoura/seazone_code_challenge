{
 "cells": [
  {
   "cell_type": "markdown",
   "id": "2b9a6088",
   "metadata": {},
   "source": [
    "# 0.0 Imports"
   ]
  },
  {
   "cell_type": "code",
   "execution_count": 1,
   "id": "7ff32fd5",
   "metadata": {
    "ExecuteTime": {
     "end_time": "2022-12-24T20:18:56.978266Z",
     "start_time": "2022-12-24T20:18:50.758755Z"
    }
   },
   "outputs": [],
   "source": [
    "import pandas as pd\n",
    "import numpy as np\n",
    "import regex as re\n",
    "import seaborn as sns\n",
    "\n",
    "from sklearn import cluster as c\n",
    "from sklearn import metrics as m\n",
    "from plotly import express as px\n",
    "from yellowbrick.cluster import KElbowVisualizer\n",
    "\n",
    "from geopy.geocoders import Nominatim\n",
    "\n",
    "from IPython.display import HTML, Image"
   ]
  },
  {
   "cell_type": "markdown",
   "id": "2064010c",
   "metadata": {
    "heading_collapsed": true
   },
   "source": [
    "## 0.1 Loading Dataset"
   ]
  },
  {
   "cell_type": "code",
   "execution_count": 2,
   "id": "fb358546",
   "metadata": {
    "ExecuteTime": {
     "end_time": "2022-12-24T20:21:04.146902Z",
     "start_time": "2022-12-24T20:18:56.978266Z"
    },
    "hidden": true
   },
   "outputs": [],
   "source": [
    "prices = pd.read_csv('D:\\\\My Drive\\\\Pessoal\\\\Projetos\\\\seazone_code_challenge\\\\data\\\\raw\\\\Price_AV_Itapema.csv', low_memory=False)\n",
    "vivareal = pd.read_csv('D:\\\\My Drive\\\\Pessoal\\\\Projetos\\\\seazone_code_challenge\\\\data\\\\raw\\\\VivaReal_Itapema.csv')\n",
    "details = pd.read_csv('D:\\\\My Drive\\\\Pessoal\\\\Projetos\\\\seazone_code_challenge\\\\data\\\\raw\\\\Details_Data.csv')\n",
    "hosts = pd.read_csv('D:\\\\My Drive\\\\Pessoal\\\\Projetos\\\\seazone_code_challenge\\\\data\\\\raw\\\\Hosts_ids_Itapema.csv')"
   ]
  },
  {
   "cell_type": "markdown",
   "id": "1ce50848",
   "metadata": {
    "heading_collapsed": true
   },
   "source": [
    "## 0.2 Helper Functions"
   ]
  },
  {
   "cell_type": "code",
   "execution_count": 3,
   "id": "675eed71",
   "metadata": {
    "ExecuteTime": {
     "end_time": "2022-12-24T20:21:04.223795Z",
     "start_time": "2022-12-24T20:21:04.180813Z"
    },
    "hidden": true
   },
   "outputs": [],
   "source": [
    "def get_city(x):\n",
    "    geolocator = Nominatim(user_agent=\"geoapiExercises\")\n",
    "    lat = str(x[0])\n",
    "    long = str(x[1])\n",
    "    location = geolocator.reverse(lat+\",\"+long)\n",
    "    city = location.address.split(',')[2].strip()\n",
    "    return city\n",
    "\n",
    "def search_outliers(df, series):\n",
    "    q1 = np.percentile(df[series], 25)\n",
    "    q3 = np.percentile(df[series], 75)\n",
    "    distancia = q3 - q1\n",
    "    salto = distancia * 1.5\n",
    "    li = q1 - salto\n",
    "    ls = q3 + salto\n",
    "    indices = df[(df[series]<li)|(df[series]>ls)].index\n",
    "    return indices, li, ls"
   ]
  },
  {
   "cell_type": "markdown",
   "id": "e606b8b5",
   "metadata": {
    "heading_collapsed": true
   },
   "source": [
    "# 1.0 Data Description"
   ]
  },
  {
   "cell_type": "markdown",
   "id": "c9670e0a",
   "metadata": {
    "heading_collapsed": true,
    "hidden": true
   },
   "source": [
    "## 1.1 Looking Datasets"
   ]
  },
  {
   "cell_type": "code",
   "execution_count": 4,
   "id": "849c94c3",
   "metadata": {
    "ExecuteTime": {
     "end_time": "2022-12-24T20:21:04.364268Z",
     "start_time": "2022-12-24T20:21:04.224291Z"
    },
    "hidden": true
   },
   "outputs": [
    {
     "data": {
      "text/html": [
       "<div>\n",
       "<style scoped>\n",
       "    .dataframe tbody tr th:only-of-type {\n",
       "        vertical-align: middle;\n",
       "    }\n",
       "\n",
       "    .dataframe tbody tr th {\n",
       "        vertical-align: top;\n",
       "    }\n",
       "\n",
       "    .dataframe thead th {\n",
       "        text-align: right;\n",
       "    }\n",
       "</style>\n",
       "<table border=\"1\" class=\"dataframe\">\n",
       "  <thead>\n",
       "    <tr style=\"text-align: right;\">\n",
       "      <th></th>\n",
       "      <th>airbnb_listing_id</th>\n",
       "      <th>date</th>\n",
       "      <th>price</th>\n",
       "      <th>price_string</th>\n",
       "      <th>minimum_stay</th>\n",
       "      <th>available</th>\n",
       "      <th>aquisition_date</th>\n",
       "      <th>av_for_checkin</th>\n",
       "      <th>av_for_checkout</th>\n",
       "      <th>index</th>\n",
       "      <th>bookable</th>\n",
       "      <th>ano</th>\n",
       "      <th>mes</th>\n",
       "      <th>dia</th>\n",
       "    </tr>\n",
       "  </thead>\n",
       "  <tbody>\n",
       "    <tr>\n",
       "      <th>0</th>\n",
       "      <td>22258063</td>\n",
       "      <td>2022-11-27</td>\n",
       "      <td>460.0</td>\n",
       "      <td>R$460</td>\n",
       "      <td>2</td>\n",
       "      <td>True</td>\n",
       "      <td>2022-11-27 05:28:18.654</td>\n",
       "      <td>True</td>\n",
       "      <td>NaN</td>\n",
       "      <td>NaN</td>\n",
       "      <td>NaN</td>\n",
       "      <td>2022</td>\n",
       "      <td>11</td>\n",
       "      <td>27</td>\n",
       "    </tr>\n",
       "    <tr>\n",
       "      <th>1</th>\n",
       "      <td>22258063</td>\n",
       "      <td>2022-11-28</td>\n",
       "      <td>460.0</td>\n",
       "      <td>R$460</td>\n",
       "      <td>2</td>\n",
       "      <td>True</td>\n",
       "      <td>2022-11-27 05:28:18.654</td>\n",
       "      <td>True</td>\n",
       "      <td>NaN</td>\n",
       "      <td>NaN</td>\n",
       "      <td>NaN</td>\n",
       "      <td>2022</td>\n",
       "      <td>11</td>\n",
       "      <td>27</td>\n",
       "    </tr>\n",
       "    <tr>\n",
       "      <th>2</th>\n",
       "      <td>22258063</td>\n",
       "      <td>2022-11-29</td>\n",
       "      <td>460.0</td>\n",
       "      <td>R$460</td>\n",
       "      <td>2</td>\n",
       "      <td>True</td>\n",
       "      <td>2022-11-27 05:28:18.654</td>\n",
       "      <td>True</td>\n",
       "      <td>NaN</td>\n",
       "      <td>NaN</td>\n",
       "      <td>NaN</td>\n",
       "      <td>2022</td>\n",
       "      <td>11</td>\n",
       "      <td>27</td>\n",
       "    </tr>\n",
       "    <tr>\n",
       "      <th>3</th>\n",
       "      <td>22258063</td>\n",
       "      <td>2022-11-30</td>\n",
       "      <td>460.0</td>\n",
       "      <td>R$460</td>\n",
       "      <td>2</td>\n",
       "      <td>True</td>\n",
       "      <td>2022-11-27 05:28:18.654</td>\n",
       "      <td>True</td>\n",
       "      <td>NaN</td>\n",
       "      <td>NaN</td>\n",
       "      <td>NaN</td>\n",
       "      <td>2022</td>\n",
       "      <td>11</td>\n",
       "      <td>27</td>\n",
       "    </tr>\n",
       "    <tr>\n",
       "      <th>4</th>\n",
       "      <td>22258063</td>\n",
       "      <td>2022-12-01</td>\n",
       "      <td>500.0</td>\n",
       "      <td>R$500</td>\n",
       "      <td>2</td>\n",
       "      <td>True</td>\n",
       "      <td>2022-11-27 05:28:18.654</td>\n",
       "      <td>True</td>\n",
       "      <td>NaN</td>\n",
       "      <td>NaN</td>\n",
       "      <td>NaN</td>\n",
       "      <td>2022</td>\n",
       "      <td>11</td>\n",
       "      <td>27</td>\n",
       "    </tr>\n",
       "  </tbody>\n",
       "</table>\n",
       "</div>"
      ],
      "text/plain": [
       "   airbnb_listing_id        date  price price_string  minimum_stay  available  \\\n",
       "0           22258063  2022-11-27  460.0        R$460             2       True   \n",
       "1           22258063  2022-11-28  460.0        R$460             2       True   \n",
       "2           22258063  2022-11-29  460.0        R$460             2       True   \n",
       "3           22258063  2022-11-30  460.0        R$460             2       True   \n",
       "4           22258063  2022-12-01  500.0        R$500             2       True   \n",
       "\n",
       "           aquisition_date av_for_checkin  av_for_checkout  index  bookable  \\\n",
       "0  2022-11-27 05:28:18.654           True              NaN    NaN       NaN   \n",
       "1  2022-11-27 05:28:18.654           True              NaN    NaN       NaN   \n",
       "2  2022-11-27 05:28:18.654           True              NaN    NaN       NaN   \n",
       "3  2022-11-27 05:28:18.654           True              NaN    NaN       NaN   \n",
       "4  2022-11-27 05:28:18.654           True              NaN    NaN       NaN   \n",
       "\n",
       "    ano  mes  dia  \n",
       "0  2022   11   27  \n",
       "1  2022   11   27  \n",
       "2  2022   11   27  \n",
       "3  2022   11   27  \n",
       "4  2022   11   27  "
      ]
     },
     "execution_count": 4,
     "metadata": {},
     "output_type": "execute_result"
    }
   ],
   "source": [
    "prices.head()"
   ]
  },
  {
   "cell_type": "code",
   "execution_count": 5,
   "id": "8dbde163",
   "metadata": {
    "ExecuteTime": {
     "end_time": "2022-12-24T20:21:04.435221Z",
     "start_time": "2022-12-24T20:21:04.370294Z"
    },
    "hidden": true
   },
   "outputs": [
    {
     "data": {
      "text/html": [
       "<div>\n",
       "<style scoped>\n",
       "    .dataframe tbody tr th:only-of-type {\n",
       "        vertical-align: middle;\n",
       "    }\n",
       "\n",
       "    .dataframe tbody tr th {\n",
       "        vertical-align: top;\n",
       "    }\n",
       "\n",
       "    .dataframe thead th {\n",
       "        text-align: right;\n",
       "    }\n",
       "</style>\n",
       "<table border=\"1\" class=\"dataframe\">\n",
       "  <thead>\n",
       "    <tr style=\"text-align: right;\">\n",
       "      <th></th>\n",
       "      <th>listing_id</th>\n",
       "      <th>link_name</th>\n",
       "      <th>link_url</th>\n",
       "      <th>listing_type</th>\n",
       "      <th>listing_title</th>\n",
       "      <th>listing_desc</th>\n",
       "      <th>business_types</th>\n",
       "      <th>unit_type</th>\n",
       "      <th>unit_subtype</th>\n",
       "      <th>property_type</th>\n",
       "      <th>...</th>\n",
       "      <th>advertiser_id</th>\n",
       "      <th>advertiser_name</th>\n",
       "      <th>advertiser_phones</th>\n",
       "      <th>advertiser_whatsapp</th>\n",
       "      <th>advertiser_url</th>\n",
       "      <th>portal</th>\n",
       "      <th>aquisition_date</th>\n",
       "      <th>ano</th>\n",
       "      <th>mes</th>\n",
       "      <th>dia</th>\n",
       "    </tr>\n",
       "  </thead>\n",
       "  <tbody>\n",
       "    <tr>\n",
       "      <th>0</th>\n",
       "      <td>2570403797</td>\n",
       "      <td>Apartamento com 4 Quartos à venda, 187m²</td>\n",
       "      <td>https://www.vivareal.com.br/imovel/apartamento...</td>\n",
       "      <td>USED</td>\n",
       "      <td>Apartamento com 4 dormitórios à venda, 187 m² ...</td>\n",
       "      <td>Situado em uma das melhores regiões da Meia Pr...</td>\n",
       "      <td>[\"SALE\"]</td>\n",
       "      <td>APARTMENT</td>\n",
       "      <td>NaN</td>\n",
       "      <td>UNIT</td>\n",
       "      <td>...</td>\n",
       "      <td>39507409-01f8-3935-dc38-e0fea684b44a</td>\n",
       "      <td>Winner Brokers</td>\n",
       "      <td>[\"44984349088\"]</td>\n",
       "      <td>4.498435e+10</td>\n",
       "      <td>https://www.vivareal.com.br/770696/winner-brok...</td>\n",
       "      <td>GRUPOZAP</td>\n",
       "      <td>2022-12-06 00:00:00.000</td>\n",
       "      <td>2022</td>\n",
       "      <td>12</td>\n",
       "      <td>6</td>\n",
       "    </tr>\n",
       "    <tr>\n",
       "      <th>1</th>\n",
       "      <td>2510420914</td>\n",
       "      <td>Apartamento com 4 Quartos à venda, 253m²</td>\n",
       "      <td>https://www.vivareal.com.br/imovel/apartamento...</td>\n",
       "      <td>USED</td>\n",
       "      <td>Apartamento com 4 suítes 3 vagas em Itapema SC</td>\n",
       "      <td>Apartamentos com 04 suítes, 03 vagas de garage...</td>\n",
       "      <td>[\"SALE\"]</td>\n",
       "      <td>APARTMENT</td>\n",
       "      <td>NaN</td>\n",
       "      <td>UNIT</td>\n",
       "      <td>...</td>\n",
       "      <td>cc5bc87d-b746-8b05-90f8-ef61f5020a69</td>\n",
       "      <td>FRANCA FERRAZ IMOBILIARIA</td>\n",
       "      <td>[\"4733630740\", \"47996961130\"]</td>\n",
       "      <td>4.799696e+10</td>\n",
       "      <td>https://www.vivareal.com.br/116267/franca-ferr...</td>\n",
       "      <td>GRUPOZAP</td>\n",
       "      <td>2022-12-06 00:00:00.000</td>\n",
       "      <td>2022</td>\n",
       "      <td>12</td>\n",
       "      <td>6</td>\n",
       "    </tr>\n",
       "    <tr>\n",
       "      <th>2</th>\n",
       "      <td>2594648655</td>\n",
       "      <td>Apartamento com 4 Quartos à venda, 210m²</td>\n",
       "      <td>https://www.vivareal.com.br/imovel/apartamento...</td>\n",
       "      <td>USED</td>\n",
       "      <td>Apartamento à venda, Centro, Itapema, SC</td>\n",
       "      <td>Apartamento à Venda, 210m² por R$ 3.000.000. C...</td>\n",
       "      <td>[\"SALE\"]</td>\n",
       "      <td>APARTMENT</td>\n",
       "      <td>NaN</td>\n",
       "      <td>UNIT</td>\n",
       "      <td>...</td>\n",
       "      <td>ac9f84ae-1363-d2aa-1a6d-4adf1631539f</td>\n",
       "      <td>ARBO IMÓVEIS</td>\n",
       "      <td>[\"11999293012\"]</td>\n",
       "      <td>1.199929e+10</td>\n",
       "      <td>https://www.vivareal.com.br/656548/arbo-imoveis/</td>\n",
       "      <td>GRUPOZAP</td>\n",
       "      <td>2022-12-06 00:00:00.000</td>\n",
       "      <td>2022</td>\n",
       "      <td>12</td>\n",
       "      <td>6</td>\n",
       "    </tr>\n",
       "  </tbody>\n",
       "</table>\n",
       "<p>3 rows × 42 columns</p>\n",
       "</div>"
      ],
      "text/plain": [
       "   listing_id                                 link_name  \\\n",
       "0  2570403797  Apartamento com 4 Quartos à venda, 187m²   \n",
       "1  2510420914  Apartamento com 4 Quartos à venda, 253m²   \n",
       "2  2594648655  Apartamento com 4 Quartos à venda, 210m²   \n",
       "\n",
       "                                            link_url listing_type  \\\n",
       "0  https://www.vivareal.com.br/imovel/apartamento...         USED   \n",
       "1  https://www.vivareal.com.br/imovel/apartamento...         USED   \n",
       "2  https://www.vivareal.com.br/imovel/apartamento...         USED   \n",
       "\n",
       "                                       listing_title  \\\n",
       "0  Apartamento com 4 dormitórios à venda, 187 m² ...   \n",
       "1     Apartamento com 4 suítes 3 vagas em Itapema SC   \n",
       "2           Apartamento à venda, Centro, Itapema, SC   \n",
       "\n",
       "                                        listing_desc business_types  \\\n",
       "0  Situado em uma das melhores regiões da Meia Pr...       [\"SALE\"]   \n",
       "1  Apartamentos com 04 suítes, 03 vagas de garage...       [\"SALE\"]   \n",
       "2  Apartamento à Venda, 210m² por R$ 3.000.000. C...       [\"SALE\"]   \n",
       "\n",
       "   unit_type unit_subtype property_type  ...  \\\n",
       "0  APARTMENT          NaN          UNIT  ...   \n",
       "1  APARTMENT          NaN          UNIT  ...   \n",
       "2  APARTMENT          NaN          UNIT  ...   \n",
       "\n",
       "                          advertiser_id            advertiser_name  \\\n",
       "0  39507409-01f8-3935-dc38-e0fea684b44a             Winner Brokers   \n",
       "1  cc5bc87d-b746-8b05-90f8-ef61f5020a69  FRANCA FERRAZ IMOBILIARIA   \n",
       "2  ac9f84ae-1363-d2aa-1a6d-4adf1631539f               ARBO IMÓVEIS   \n",
       "\n",
       "               advertiser_phones advertiser_whatsapp  \\\n",
       "0                [\"44984349088\"]        4.498435e+10   \n",
       "1  [\"4733630740\", \"47996961130\"]        4.799696e+10   \n",
       "2                [\"11999293012\"]        1.199929e+10   \n",
       "\n",
       "                                      advertiser_url    portal  \\\n",
       "0  https://www.vivareal.com.br/770696/winner-brok...  GRUPOZAP   \n",
       "1  https://www.vivareal.com.br/116267/franca-ferr...  GRUPOZAP   \n",
       "2   https://www.vivareal.com.br/656548/arbo-imoveis/  GRUPOZAP   \n",
       "\n",
       "           aquisition_date   ano  mes  dia  \n",
       "0  2022-12-06 00:00:00.000  2022   12    6  \n",
       "1  2022-12-06 00:00:00.000  2022   12    6  \n",
       "2  2022-12-06 00:00:00.000  2022   12    6  \n",
       "\n",
       "[3 rows x 42 columns]"
      ]
     },
     "execution_count": 5,
     "metadata": {},
     "output_type": "execute_result"
    }
   ],
   "source": [
    "vivareal.head(3)"
   ]
  },
  {
   "cell_type": "code",
   "execution_count": 6,
   "id": "924317f8",
   "metadata": {
    "ExecuteTime": {
     "end_time": "2022-12-24T20:21:04.539934Z",
     "start_time": "2022-12-24T20:21:04.435221Z"
    },
    "hidden": true
   },
   "outputs": [
    {
     "data": {
      "text/html": [
       "<div>\n",
       "<style scoped>\n",
       "    .dataframe tbody tr th:only-of-type {\n",
       "        vertical-align: middle;\n",
       "    }\n",
       "\n",
       "    .dataframe tbody tr th {\n",
       "        vertical-align: top;\n",
       "    }\n",
       "\n",
       "    .dataframe thead th {\n",
       "        text-align: right;\n",
       "    }\n",
       "</style>\n",
       "<table border=\"1\" class=\"dataframe\">\n",
       "  <thead>\n",
       "    <tr style=\"text-align: right;\">\n",
       "      <th></th>\n",
       "      <th>aquisition_date</th>\n",
       "      <th>url</th>\n",
       "      <th>ad_name</th>\n",
       "      <th>ad_description</th>\n",
       "      <th>ad_id</th>\n",
       "      <th>space</th>\n",
       "      <th>house_rules</th>\n",
       "      <th>amenities</th>\n",
       "      <th>safety_features</th>\n",
       "      <th>number_of_bathrooms</th>\n",
       "      <th>...</th>\n",
       "      <th>index</th>\n",
       "      <th>localized_star_rating</th>\n",
       "      <th>response_time_shown</th>\n",
       "      <th>response_rate_shown</th>\n",
       "      <th>guest_satisfaction_overall</th>\n",
       "      <th>picture_count</th>\n",
       "      <th>min_nights</th>\n",
       "      <th>ano</th>\n",
       "      <th>mes</th>\n",
       "      <th>dia</th>\n",
       "    </tr>\n",
       "  </thead>\n",
       "  <tbody>\n",
       "    <tr>\n",
       "      <th>0</th>\n",
       "      <td>2022-07-11 07:21:51.61831</td>\n",
       "      <td>https://www.airbnb.com.br/rooms/27865733</td>\n",
       "      <td>Carambei 106</td>\n",
       "      <td>Apartamento para 8 pessoas, lateral p praia. P...</td>\n",
       "      <td>27865733</td>\n",
       "      <td>Espaco TOP tipo hotel</td>\n",
       "      <td>{\"Não são permitidas festas ou eventos\",\"Anima...</td>\n",
       "      <td>{Cabides,\"Ferro de passar\",\"Máquina de Lavar\",...</td>\n",
       "      <td>{}</td>\n",
       "      <td>2.0</td>\n",
       "      <td>...</td>\n",
       "      <td>11043701.0</td>\n",
       "      <td>NaN</td>\n",
       "      <td>em até uma hora</td>\n",
       "      <td>100%</td>\n",
       "      <td>100.0</td>\n",
       "      <td>31.0</td>\n",
       "      <td>2.0</td>\n",
       "      <td>2022</td>\n",
       "      <td>7</td>\n",
       "      <td>11</td>\n",
       "    </tr>\n",
       "    <tr>\n",
       "      <th>1</th>\n",
       "      <td>2022-07-11 07:28:25.226756</td>\n",
       "      <td>https://www.airbnb.com.br/rooms/52200210</td>\n",
       "      <td>Apto aconchegante na rua + procurada da Meia P...</td>\n",
       "      <td>Sua família vai estar perto de tudo ao ficar n...</td>\n",
       "      <td>52200210</td>\n",
       "      <td>NaN</td>\n",
       "      <td>{\"Animais de estimação são permitidos\"}</td>\n",
       "      <td>{\"Máquina de Lavar\",TV,Ar-condicionado,Wi-Fi,\"...</td>\n",
       "      <td>{}</td>\n",
       "      <td>2.0</td>\n",
       "      <td>...</td>\n",
       "      <td>11082903.0</td>\n",
       "      <td>5,0</td>\n",
       "      <td>em até uma hora</td>\n",
       "      <td>100%</td>\n",
       "      <td>100.0</td>\n",
       "      <td>43.0</td>\n",
       "      <td>2.0</td>\n",
       "      <td>2022</td>\n",
       "      <td>7</td>\n",
       "      <td>11</td>\n",
       "    </tr>\n",
       "    <tr>\n",
       "      <th>2</th>\n",
       "      <td>2022-07-18 07:19:40.053547</td>\n",
       "      <td>https://www.airbnb.com.br/rooms/53372578</td>\n",
       "      <td>Ótimo apartamento em Itapema</td>\n",
       "      <td>Ótimo para período de férias</td>\n",
       "      <td>53372578</td>\n",
       "      <td>O Ap é bastante amplo, sala de star e jantar i...</td>\n",
       "      <td>{\"Animais de estimação são permitidos\"}</td>\n",
       "      <td>{\"Local para guardar as roupas\",\"Blackout nas ...</td>\n",
       "      <td>{\"Extintor de incêndio\"}</td>\n",
       "      <td>2.0</td>\n",
       "      <td>...</td>\n",
       "      <td>11300813.0</td>\n",
       "      <td>3,0</td>\n",
       "      <td>NaN</td>\n",
       "      <td>NaN</td>\n",
       "      <td>60.0</td>\n",
       "      <td>11.0</td>\n",
       "      <td>7.0</td>\n",
       "      <td>2022</td>\n",
       "      <td>7</td>\n",
       "      <td>18</td>\n",
       "    </tr>\n",
       "  </tbody>\n",
       "</table>\n",
       "<p>3 rows × 37 columns</p>\n",
       "</div>"
      ],
      "text/plain": [
       "              aquisition_date                                       url  \\\n",
       "0   2022-07-11 07:21:51.61831  https://www.airbnb.com.br/rooms/27865733   \n",
       "1  2022-07-11 07:28:25.226756  https://www.airbnb.com.br/rooms/52200210   \n",
       "2  2022-07-18 07:19:40.053547  https://www.airbnb.com.br/rooms/53372578   \n",
       "\n",
       "                                             ad_name  \\\n",
       "0                                       Carambei 106   \n",
       "1  Apto aconchegante na rua + procurada da Meia P...   \n",
       "2                       Ótimo apartamento em Itapema   \n",
       "\n",
       "                                      ad_description     ad_id  \\\n",
       "0  Apartamento para 8 pessoas, lateral p praia. P...  27865733   \n",
       "1  Sua família vai estar perto de tudo ao ficar n...  52200210   \n",
       "2                       Ótimo para período de férias  53372578   \n",
       "\n",
       "                                               space  \\\n",
       "0                              Espaco TOP tipo hotel   \n",
       "1                                                NaN   \n",
       "2  O Ap é bastante amplo, sala de star e jantar i...   \n",
       "\n",
       "                                         house_rules  \\\n",
       "0  {\"Não são permitidas festas ou eventos\",\"Anima...   \n",
       "1            {\"Animais de estimação são permitidos\"}   \n",
       "2            {\"Animais de estimação são permitidos\"}   \n",
       "\n",
       "                                           amenities  \\\n",
       "0  {Cabides,\"Ferro de passar\",\"Máquina de Lavar\",...   \n",
       "1  {\"Máquina de Lavar\",TV,Ar-condicionado,Wi-Fi,\"...   \n",
       "2  {\"Local para guardar as roupas\",\"Blackout nas ...   \n",
       "\n",
       "            safety_features  number_of_bathrooms  ...       index  \\\n",
       "0                        {}                  2.0  ...  11043701.0   \n",
       "1                        {}                  2.0  ...  11082903.0   \n",
       "2  {\"Extintor de incêndio\"}                  2.0  ...  11300813.0   \n",
       "\n",
       "   localized_star_rating  response_time_shown  response_rate_shown  \\\n",
       "0                    NaN      em até uma hora                 100%   \n",
       "1                    5,0      em até uma hora                 100%   \n",
       "2                    3,0                  NaN                  NaN   \n",
       "\n",
       "   guest_satisfaction_overall picture_count min_nights   ano mes  dia  \n",
       "0                       100.0          31.0        2.0  2022   7   11  \n",
       "1                       100.0          43.0        2.0  2022   7   11  \n",
       "2                        60.0          11.0        7.0  2022   7   18  \n",
       "\n",
       "[3 rows x 37 columns]"
      ]
     },
     "execution_count": 6,
     "metadata": {},
     "output_type": "execute_result"
    }
   ],
   "source": [
    "details.head(3)"
   ]
  },
  {
   "cell_type": "code",
   "execution_count": 7,
   "id": "89becca1",
   "metadata": {
    "ExecuteTime": {
     "end_time": "2022-12-24T20:21:04.572789Z",
     "start_time": "2022-12-24T20:21:04.544846Z"
    },
    "hidden": true
   },
   "outputs": [
    {
     "data": {
      "text/html": [
       "<div>\n",
       "<style scoped>\n",
       "    .dataframe tbody tr th:only-of-type {\n",
       "        vertical-align: middle;\n",
       "    }\n",
       "\n",
       "    .dataframe tbody tr th {\n",
       "        vertical-align: top;\n",
       "    }\n",
       "\n",
       "    .dataframe thead th {\n",
       "        text-align: right;\n",
       "    }\n",
       "</style>\n",
       "<table border=\"1\" class=\"dataframe\">\n",
       "  <thead>\n",
       "    <tr style=\"text-align: right;\">\n",
       "      <th></th>\n",
       "      <th>host_id</th>\n",
       "      <th>host_name</th>\n",
       "      <th>host_rating</th>\n",
       "      <th>n_reviews</th>\n",
       "      <th>n_reviews_from_host</th>\n",
       "      <th>n_listings</th>\n",
       "      <th>about_host</th>\n",
       "      <th>comments</th>\n",
       "      <th>aquisition_date</th>\n",
       "      <th>ano</th>\n",
       "      <th>mes</th>\n",
       "      <th>dia</th>\n",
       "    </tr>\n",
       "  </thead>\n",
       "  <tbody>\n",
       "    <tr>\n",
       "      <th>0</th>\n",
       "      <td>160913639</td>\n",
       "      <td>Cayo</td>\n",
       "      <td>0.000</td>\n",
       "      <td>0</td>\n",
       "      <td>0</td>\n",
       "      <td>1</td>\n",
       "      <td>NaN</td>\n",
       "      <td>NaN</td>\n",
       "      <td>2022-12-05</td>\n",
       "      <td>2022</td>\n",
       "      <td>12</td>\n",
       "      <td>5</td>\n",
       "    </tr>\n",
       "    <tr>\n",
       "      <th>1</th>\n",
       "      <td>84162292</td>\n",
       "      <td>Ricardo</td>\n",
       "      <td>4.935</td>\n",
       "      <td>42</td>\n",
       "      <td>1</td>\n",
       "      <td>3</td>\n",
       "      <td>Sou casado, tenho uma filha de 9 anos e um fil...</td>\n",
       "      <td>[\"Obrigado Ricardo a estadia  foi ótima muito ...</td>\n",
       "      <td>2022-12-05</td>\n",
       "      <td>2022</td>\n",
       "      <td>12</td>\n",
       "      <td>5</td>\n",
       "    </tr>\n",
       "    <tr>\n",
       "      <th>2</th>\n",
       "      <td>96045548</td>\n",
       "      <td>Eduardo</td>\n",
       "      <td>0.000</td>\n",
       "      <td>26</td>\n",
       "      <td>0</td>\n",
       "      <td>3</td>\n",
       "      <td>NaN</td>\n",
       "      <td>[\"Otimo\", \"muito bom local e muito claro nas e...</td>\n",
       "      <td>2022-12-05</td>\n",
       "      <td>2022</td>\n",
       "      <td>12</td>\n",
       "      <td>5</td>\n",
       "    </tr>\n",
       "  </tbody>\n",
       "</table>\n",
       "</div>"
      ],
      "text/plain": [
       "     host_id host_name  host_rating  n_reviews  n_reviews_from_host  \\\n",
       "0  160913639      Cayo        0.000          0                    0   \n",
       "1   84162292   Ricardo        4.935         42                    1   \n",
       "2   96045548   Eduardo        0.000         26                    0   \n",
       "\n",
       "   n_listings                                         about_host  \\\n",
       "0           1                                                NaN   \n",
       "1           3  Sou casado, tenho uma filha de 9 anos e um fil...   \n",
       "2           3                                                NaN   \n",
       "\n",
       "                                            comments aquisition_date   ano  \\\n",
       "0                                                NaN      2022-12-05  2022   \n",
       "1  [\"Obrigado Ricardo a estadia  foi ótima muito ...      2022-12-05  2022   \n",
       "2  [\"Otimo\", \"muito bom local e muito claro nas e...      2022-12-05  2022   \n",
       "\n",
       "   mes  dia  \n",
       "0   12    5  \n",
       "1   12    5  \n",
       "2   12    5  "
      ]
     },
     "execution_count": 7,
     "metadata": {},
     "output_type": "execute_result"
    }
   ],
   "source": [
    "hosts.head(3)"
   ]
  },
  {
   "cell_type": "markdown",
   "id": "5f2e22e9",
   "metadata": {
    "heading_collapsed": true,
    "hidden": true
   },
   "source": [
    "## 1.2 Data Dimensions"
   ]
  },
  {
   "cell_type": "code",
   "execution_count": 8,
   "id": "ef92c61c",
   "metadata": {
    "ExecuteTime": {
     "end_time": "2022-12-24T20:21:04.606119Z",
     "start_time": "2022-12-24T20:21:04.578521Z"
    },
    "hidden": true
   },
   "outputs": [
    {
     "name": "stdout",
     "output_type": "stream",
     "text": [
      "prices\n",
      "Rows qtd: 43020080\n",
      "Columns qtd: 14\n",
      "\n",
      "vivareal\n",
      "Rows qtd: 17547\n",
      "Columns qtd: 42\n",
      "\n",
      "details\n",
      "Rows qtd: 32558\n",
      "Columns qtd: 37\n",
      "\n",
      "hosts\n",
      "Rows qtd: 1357\n",
      "Columns qtd: 12\n",
      "\n"
     ]
    }
   ],
   "source": [
    "print('prices')\n",
    "print(f'Rows qtd: {prices.shape[0]}')\n",
    "print(f'Columns qtd: {prices.shape[1]}\\n')\n",
    "print('vivareal')\n",
    "print(f'Rows qtd: {vivareal.shape[0]}')\n",
    "print(f'Columns qtd: {vivareal.shape[1]}\\n')\n",
    "print('details')\n",
    "print(f'Rows qtd: {details.shape[0]}')\n",
    "print(f'Columns qtd: {details.shape[1]}\\n')\n",
    "print('hosts')\n",
    "print(f'Rows qtd: {hosts.shape[0]}')\n",
    "print(f'Columns qtd: {hosts.shape[1]}\\n')"
   ]
  },
  {
   "cell_type": "markdown",
   "id": "5862d1f5",
   "metadata": {
    "heading_collapsed": true,
    "hidden": true
   },
   "source": [
    "## 1.3 Datatypes"
   ]
  },
  {
   "cell_type": "code",
   "execution_count": 9,
   "id": "5bdc3afe",
   "metadata": {
    "ExecuteTime": {
     "end_time": "2022-12-24T20:21:04.645201Z",
     "start_time": "2022-12-24T20:21:04.617073Z"
    },
    "hidden": true
   },
   "outputs": [
    {
     "data": {
      "text/plain": [
       "airbnb_listing_id      int64\n",
       "date                  object\n",
       "price                float64\n",
       "price_string          object\n",
       "minimum_stay           int64\n",
       "available               bool\n",
       "aquisition_date       object\n",
       "av_for_checkin        object\n",
       "av_for_checkout      float64\n",
       "index                float64\n",
       "bookable             float64\n",
       "ano                    int64\n",
       "mes                    int64\n",
       "dia                    int64\n",
       "dtype: object"
      ]
     },
     "execution_count": 9,
     "metadata": {},
     "output_type": "execute_result"
    }
   ],
   "source": [
    "prices.dtypes"
   ]
  },
  {
   "cell_type": "code",
   "execution_count": 10,
   "id": "c86404d6",
   "metadata": {
    "ExecuteTime": {
     "end_time": "2022-12-24T20:21:04.668893Z",
     "start_time": "2022-12-24T20:21:04.645201Z"
    },
    "hidden": true
   },
   "outputs": [
    {
     "data": {
      "text/plain": [
       "host_id                  int64\n",
       "host_name               object\n",
       "host_rating            float64\n",
       "n_reviews                int64\n",
       "n_reviews_from_host      int64\n",
       "n_listings               int64\n",
       "about_host              object\n",
       "comments                object\n",
       "aquisition_date         object\n",
       "ano                      int64\n",
       "mes                      int64\n",
       "dia                      int64\n",
       "dtype: object"
      ]
     },
     "execution_count": 10,
     "metadata": {},
     "output_type": "execute_result"
    }
   ],
   "source": [
    "hosts.dtypes"
   ]
  },
  {
   "cell_type": "code",
   "execution_count": 11,
   "id": "5d95ac4f",
   "metadata": {
    "ExecuteTime": {
     "end_time": "2022-12-24T20:21:04.699628Z",
     "start_time": "2022-12-24T20:21:04.668893Z"
    },
    "hidden": true
   },
   "outputs": [
    {
     "data": {
      "text/plain": [
       "aquisition_date                object\n",
       "url                            object\n",
       "ad_name                        object\n",
       "ad_description                 object\n",
       "ad_id                           int64\n",
       "space                          object\n",
       "house_rules                    object\n",
       "amenities                      object\n",
       "safety_features                object\n",
       "number_of_bathrooms           float64\n",
       "number_of_bedrooms            float64\n",
       "number_of_beds                float64\n",
       "latitude                      float64\n",
       "longitude                     float64\n",
       "star_rating                   float64\n",
       "additional_house_rules         object\n",
       "owner                          object\n",
       "check_in                       object\n",
       "check_out                      object\n",
       "number_of_guests                int64\n",
       "is_superhost                     bool\n",
       "number_of_reviews               int64\n",
       "cohosts                        object\n",
       "cleaning_fee                  float64\n",
       "can_instant_book                 bool\n",
       "owner_id                        int64\n",
       "listing_type                   object\n",
       "index                         float64\n",
       "localized_star_rating          object\n",
       "response_time_shown            object\n",
       "response_rate_shown            object\n",
       "guest_satisfaction_overall    float64\n",
       "picture_count                 float64\n",
       "min_nights                    float64\n",
       "ano                             int64\n",
       "mes                             int64\n",
       "dia                             int64\n",
       "dtype: object"
      ]
     },
     "execution_count": 11,
     "metadata": {},
     "output_type": "execute_result"
    }
   ],
   "source": [
    "details.dtypes"
   ]
  },
  {
   "cell_type": "code",
   "execution_count": 12,
   "id": "cc0507ca",
   "metadata": {
    "ExecuteTime": {
     "end_time": "2022-12-24T20:21:04.722629Z",
     "start_time": "2022-12-24T20:21:04.699812Z"
    },
    "hidden": true
   },
   "outputs": [
    {
     "data": {
      "text/plain": [
       "listing_id                 int64\n",
       "link_name                 object\n",
       "link_url                  object\n",
       "listing_type              object\n",
       "listing_title             object\n",
       "listing_desc              object\n",
       "business_types            object\n",
       "unit_type                 object\n",
       "unit_subtype              object\n",
       "property_type             object\n",
       "usage_type                object\n",
       "sale_price               float64\n",
       "rental_price             float64\n",
       "rental_period             object\n",
       "yearly_iptu              float64\n",
       "monthly_condo_fee        float64\n",
       "amenities                 object\n",
       "usable_area              float64\n",
       "total_area               float64\n",
       "bathrooms                float64\n",
       "bedrooms                 float64\n",
       "suites                   float64\n",
       "parking_spaces           float64\n",
       "address_country           object\n",
       "address_state             object\n",
       "address_city              object\n",
       "address_neighborhood      object\n",
       "address_street            object\n",
       "address_street_number     object\n",
       "address_complement       float64\n",
       "address_zipcode          float64\n",
       "location_id               object\n",
       "advertiser_id             object\n",
       "advertiser_name           object\n",
       "advertiser_phones         object\n",
       "advertiser_whatsapp      float64\n",
       "advertiser_url            object\n",
       "portal                    object\n",
       "aquisition_date           object\n",
       "ano                        int64\n",
       "mes                        int64\n",
       "dia                        int64\n",
       "dtype: object"
      ]
     },
     "execution_count": 12,
     "metadata": {},
     "output_type": "execute_result"
    }
   ],
   "source": [
    "vivareal.dtypes"
   ]
  },
  {
   "cell_type": "markdown",
   "id": "d6744ce5",
   "metadata": {
    "heading_collapsed": true,
    "hidden": true
   },
   "source": [
    "## 1.4 Check Na"
   ]
  },
  {
   "cell_type": "code",
   "execution_count": 13,
   "id": "e2d7553d",
   "metadata": {
    "ExecuteTime": {
     "end_time": "2022-12-24T20:21:55.063973Z",
     "start_time": "2022-12-24T20:21:04.724210Z"
    },
    "hidden": true
   },
   "outputs": [
    {
     "data": {
      "text/plain": [
       "airbnb_listing_id      0.00\n",
       "date                   0.00\n",
       "price                  0.01\n",
       "price_string           0.00\n",
       "minimum_stay           0.00\n",
       "available              0.00\n",
       "aquisition_date        0.00\n",
       "av_for_checkin         0.09\n",
       "av_for_checkout      100.00\n",
       "index                100.00\n",
       "bookable             100.00\n",
       "ano                    0.00\n",
       "mes                    0.00\n",
       "dia                    0.00\n",
       "dtype: float64"
      ]
     },
     "execution_count": 13,
     "metadata": {},
     "output_type": "execute_result"
    }
   ],
   "source": [
    "round(prices.isna().sum() / prices['airbnb_listing_id'].count() * 100, 2)"
   ]
  },
  {
   "cell_type": "code",
   "execution_count": 14,
   "id": "cf5ff456",
   "metadata": {
    "ExecuteTime": {
     "end_time": "2022-12-24T20:21:55.105492Z",
     "start_time": "2022-12-24T20:21:55.069330Z"
    },
    "hidden": true
   },
   "outputs": [
    {
     "data": {
      "text/plain": [
       "host_id                 0.00\n",
       "host_name               0.00\n",
       "host_rating             0.00\n",
       "n_reviews               0.00\n",
       "n_reviews_from_host     0.00\n",
       "n_listings              0.00\n",
       "about_host             76.05\n",
       "comments               21.81\n",
       "aquisition_date         0.00\n",
       "ano                     0.00\n",
       "mes                     0.00\n",
       "dia                     0.00\n",
       "dtype: float64"
      ]
     },
     "execution_count": 14,
     "metadata": {},
     "output_type": "execute_result"
    }
   ],
   "source": [
    "round(hosts.isna().sum() / hosts['host_id'].count() * 100, 2)"
   ]
  },
  {
   "cell_type": "code",
   "execution_count": 15,
   "id": "47287029",
   "metadata": {
    "ExecuteTime": {
     "end_time": "2022-12-24T20:21:55.277894Z",
     "start_time": "2022-12-24T20:21:55.111017Z"
    },
    "hidden": true
   },
   "outputs": [
    {
     "data": {
      "text/plain": [
       "aquisition_date                0.00\n",
       "url                            0.00\n",
       "ad_name                        0.00\n",
       "ad_description                 5.75\n",
       "ad_id                          0.00\n",
       "space                         47.46\n",
       "house_rules                    9.48\n",
       "amenities                      0.00\n",
       "safety_features                0.00\n",
       "number_of_bathrooms            0.23\n",
       "number_of_bedrooms             1.59\n",
       "number_of_beds                 0.57\n",
       "latitude                       0.00\n",
       "longitude                      0.00\n",
       "star_rating                   47.69\n",
       "additional_house_rules        57.24\n",
       "owner                          0.00\n",
       "check_in                       8.31\n",
       "check_out                     20.60\n",
       "number_of_guests               0.00\n",
       "is_superhost                   0.00\n",
       "number_of_reviews              0.00\n",
       "cohosts                       87.16\n",
       "cleaning_fee                   0.00\n",
       "can_instant_book               0.00\n",
       "owner_id                       0.00\n",
       "listing_type                   0.00\n",
       "index                         72.72\n",
       "localized_star_rating         47.70\n",
       "response_time_shown           90.24\n",
       "response_rate_shown           90.24\n",
       "guest_satisfaction_overall    90.59\n",
       "picture_count                 87.04\n",
       "min_nights                    87.04\n",
       "ano                            0.00\n",
       "mes                            0.00\n",
       "dia                            0.00\n",
       "dtype: float64"
      ]
     },
     "execution_count": 15,
     "metadata": {},
     "output_type": "execute_result"
    }
   ],
   "source": [
    "round(details.isna().sum() / details['aquisition_date'].count() * 100, 2)"
   ]
  },
  {
   "cell_type": "code",
   "execution_count": 16,
   "id": "ac66b6c6",
   "metadata": {
    "ExecuteTime": {
     "end_time": "2022-12-24T20:21:55.462516Z",
     "start_time": "2022-12-24T20:21:55.284131Z"
    },
    "hidden": true
   },
   "outputs": [
    {
     "data": {
      "text/plain": [
       "listing_id                 0.00\n",
       "link_name                  0.00\n",
       "link_url                   0.00\n",
       "listing_type               0.00\n",
       "listing_title              0.06\n",
       "listing_desc               0.54\n",
       "business_types             0.00\n",
       "unit_type                  0.00\n",
       "unit_subtype              98.66\n",
       "property_type              0.00\n",
       "usage_type                 0.00\n",
       "sale_price                 6.42\n",
       "rental_price              93.35\n",
       "rental_period             93.35\n",
       "yearly_iptu               56.64\n",
       "monthly_condo_fee         56.39\n",
       "amenities                  0.00\n",
       "usable_area                0.03\n",
       "total_area                11.81\n",
       "bathrooms                  0.23\n",
       "bedrooms                   0.51\n",
       "suites                     7.06\n",
       "parking_spaces             4.47\n",
       "address_country            0.00\n",
       "address_state              0.00\n",
       "address_city               0.00\n",
       "address_neighborhood       5.37\n",
       "address_street            38.38\n",
       "address_street_number     41.03\n",
       "address_complement       100.00\n",
       "address_zipcode            0.10\n",
       "location_id                0.00\n",
       "advertiser_id              0.00\n",
       "advertiser_name            0.00\n",
       "advertiser_phones          0.00\n",
       "advertiser_whatsapp        7.82\n",
       "advertiser_url             0.00\n",
       "portal                     0.00\n",
       "aquisition_date            0.00\n",
       "ano                        0.00\n",
       "mes                        0.00\n",
       "dia                        0.00\n",
       "dtype: float64"
      ]
     },
     "execution_count": 16,
     "metadata": {},
     "output_type": "execute_result"
    }
   ],
   "source": [
    "round(vivareal.isna().sum() / vivareal['listing_id'].count() * 100, 2)"
   ]
  },
  {
   "cell_type": "markdown",
   "id": "4121387d",
   "metadata": {
    "heading_collapsed": true,
    "hidden": true
   },
   "source": [
    "## 1.5 Fillout Na"
   ]
  },
  {
   "cell_type": "code",
   "execution_count": 17,
   "id": "ab27778b",
   "metadata": {
    "ExecuteTime": {
     "end_time": "2022-12-24T20:21:55.543435Z",
     "start_time": "2022-12-24T20:21:55.465383Z"
    },
    "hidden": true
   },
   "outputs": [],
   "source": [
    "map_bedrooms = details.groupby('number_of_guests').agg({'number_of_bedrooms':'mean'})['number_of_bedrooms'].round()\n",
    "temp = details.loc[details['number_of_bedrooms'].isna(), 'number_of_guests'].map(map_bedrooms).values\n",
    "details.loc[details['number_of_bedrooms'].isna(), 'number_of_bedrooms'] = temp\n",
    "\n",
    "map_bathrooms = details.groupby('number_of_guests').agg({'number_of_bathrooms':'mean'})['number_of_bathrooms'].round()\n",
    "temp = details.loc[details['number_of_bathrooms'].isna(), 'number_of_guests'].map(map_bathrooms).values\n",
    "details.loc[details['number_of_bathrooms'].isna(), 'number_of_bathrooms'] = temp\n",
    "\n",
    "map_beds = details.groupby('number_of_guests').agg({'number_of_beds':'mean'})['number_of_beds'].round()\n",
    "temp = details.loc[details['number_of_beds'].isna(), 'number_of_guests'].map(map_beds).values\n",
    "details.loc[details['number_of_beds'].isna(), 'number_of_beds'] = temp"
   ]
  },
  {
   "cell_type": "markdown",
   "id": "1a75830f",
   "metadata": {
    "heading_collapsed": true,
    "hidden": true
   },
   "source": [
    "## 1.6 Rename Columns"
   ]
  },
  {
   "cell_type": "code",
   "execution_count": 18,
   "id": "915112f3",
   "metadata": {
    "ExecuteTime": {
     "end_time": "2022-12-24T20:21:55.563432Z",
     "start_time": "2022-12-24T20:21:55.549152Z"
    },
    "hidden": true
   },
   "outputs": [],
   "source": [
    "prices.rename(columns={'airbnb_listing_id':'airbnb_id'}, inplace=True)\n",
    "details.rename(columns={'ad_id':'airbnb_id'}, inplace=True)"
   ]
  },
  {
   "cell_type": "markdown",
   "id": "c8c663dc",
   "metadata": {
    "heading_collapsed": true,
    "hidden": true
   },
   "source": [
    "## 1.7 Data Cleaning"
   ]
  },
  {
   "cell_type": "code",
   "execution_count": 19,
   "id": "e3a894fe",
   "metadata": {
    "ExecuteTime": {
     "end_time": "2022-12-24T20:22:06.815864Z",
     "start_time": "2022-12-24T20:21:55.569733Z"
    },
    "hidden": true
   },
   "outputs": [],
   "source": [
    "details['safety_features'] = details['safety_features'].apply(lambda x: re.sub('[^a-zA-Z0-9\\n.çêó]', ' ', x))\n",
    "details['safety_features'] = details['safety_features'].str.replace(' ', '')\n",
    "details['safety_features'] = details['safety_features'].str.replace('Trancanaportadoquarto','')\n",
    "details['safety_features'] = details['safety_features'].str.replace('u00ea', 'ê')\n",
    "details['safety_features'] = details['safety_features'].str.replace('u00e7', 'ç')\n",
    "details['safety_features'] = details['safety_features'].str.replace('u00f3', 'ó')\n",
    "temp = 'Extintordeincêndio Detectordefumaça Alarmedemonóxidodecarbono Kitdeprimeirossocorros'.split()\n",
    "details['extintordeincendio'] = details['safety_features'].apply(lambda x: 1 if temp[0] in x else 0)\n",
    "details['detectordefumaça'] = details['safety_features'].apply(lambda x: 1 if temp[1] in x else 0)\n",
    "details['alarmedemonoxidodecarbono'] = details['safety_features'].apply(lambda x: 1 if temp[2] in x else 0)\n",
    "details['kitdeprimeirossocorros'] = details['safety_features'].apply(lambda x: 1 if temp[3] in x else 0)\n",
    "details.loc[details['number_of_bathrooms']==0, 'number_of_bathrooms'] = 4\n",
    "\n",
    "prices = prices[~prices[['airbnb_id', 'date']].duplicated()]\n",
    "prices['available'] = prices['available'].apply(lambda x: 1 if x==True else 0)\n",
    "prices.loc[prices['price'] >= 4000, 'price'] = np.nan\n",
    "map_price = prices.groupby('airbnb_id').agg({'price':'median'})['price']\n",
    "temp = prices.loc[prices['price'].isna(), 'airbnb_id'].map(map_price)\n",
    "prices.loc[prices['price'].isna(), 'price'] = temp"
   ]
  },
  {
   "cell_type": "markdown",
   "id": "97763272",
   "metadata": {
    "heading_collapsed": true,
    "hidden": true
   },
   "source": [
    "## 1.8 Changing Datatipes"
   ]
  },
  {
   "cell_type": "code",
   "execution_count": 20,
   "id": "61310f14",
   "metadata": {
    "ExecuteTime": {
     "end_time": "2022-12-24T20:22:08.012634Z",
     "start_time": "2022-12-24T20:22:06.822457Z"
    },
    "hidden": true
   },
   "outputs": [],
   "source": [
    "prices['available'] = prices['available'].astype(int)\n",
    "prices['date'] = pd.to_datetime(prices['date'])\n",
    "\n",
    "details['number_of_bathrooms'] = details['number_of_bathrooms'].astype(int)\n",
    "details['number_of_bedrooms'] = details['number_of_bedrooms'].astype(int)\n",
    "details['number_of_beds'] = details['number_of_beds'].astype(int)"
   ]
  },
  {
   "cell_type": "markdown",
   "id": "9adf8b66",
   "metadata": {
    "heading_collapsed": true,
    "hidden": true
   },
   "source": [
    "## 1.9 Integrating Dataframes"
   ]
  },
  {
   "cell_type": "markdown",
   "id": "cde39f92",
   "metadata": {
    "heading_collapsed": true,
    "hidden": true
   },
   "source": [
    "### 1.9.1 Merging"
   ]
  },
  {
   "cell_type": "code",
   "execution_count": 21,
   "id": "6e3da6da",
   "metadata": {
    "ExecuteTime": {
     "end_time": "2022-12-24T20:22:08.500488Z",
     "start_time": "2022-12-24T20:22:08.020399Z"
    },
    "hidden": true
   },
   "outputs": [],
   "source": [
    "df = prices[['airbnb_id', 'date', 'price', 'available']]\n",
    "\n",
    "temp = details[['airbnb_id', 'cleaning_fee', 'number_of_bathrooms', 'number_of_bedrooms', 'number_of_beds', 'number_of_guests', 'extintordeincendio', 'detectordefumaça', 'alarmedemonoxidodecarbono', 'kitdeprimeirossocorros', 'latitude', 'longitude']]\n",
    "temp = temp.groupby('airbnb_id').median()\n",
    "\n",
    "df = pd.merge(df, temp, on='airbnb_id', how='left')"
   ]
  },
  {
   "cell_type": "markdown",
   "id": "e79a9f74",
   "metadata": {
    "heading_collapsed": true,
    "hidden": true
   },
   "source": [
    "### 1.9.2 Data Dimension"
   ]
  },
  {
   "cell_type": "code",
   "execution_count": 22,
   "id": "81863588",
   "metadata": {
    "ExecuteTime": {
     "end_time": "2022-12-24T20:22:08.521475Z",
     "start_time": "2022-12-24T20:22:08.502677Z"
    },
    "hidden": true
   },
   "outputs": [
    {
     "name": "stdout",
     "output_type": "stream",
     "text": [
      "Quantity of rows: 968832\n",
      "Quantity of columns: 15\n"
     ]
    }
   ],
   "source": [
    "print(f'Quantity of rows: {df.shape[0]}')\n",
    "print(f'Quantity of columns: {df.shape[1]}')"
   ]
  },
  {
   "cell_type": "markdown",
   "id": "91fbc399",
   "metadata": {
    "heading_collapsed": true,
    "hidden": true
   },
   "source": [
    "### 1.9.3 Check Na"
   ]
  },
  {
   "cell_type": "code",
   "execution_count": 23,
   "id": "7e79bad6",
   "metadata": {
    "ExecuteTime": {
     "end_time": "2022-12-24T20:22:08.627152Z",
     "start_time": "2022-12-24T20:22:08.525794Z"
    },
    "hidden": true
   },
   "outputs": [
    {
     "data": {
      "text/plain": [
       "airbnb_id                    0.000000\n",
       "date                         0.000000\n",
       "price                        0.004676\n",
       "available                    0.000000\n",
       "cleaning_fee                 0.000000\n",
       "number_of_bathrooms          0.000000\n",
       "number_of_bedrooms           0.000000\n",
       "number_of_beds               0.000000\n",
       "number_of_guests             0.000000\n",
       "extintordeincendio           0.000000\n",
       "detectordefumaça             0.000000\n",
       "alarmedemonoxidodecarbono    0.000000\n",
       "kitdeprimeirossocorros       0.000000\n",
       "latitude                     0.000000\n",
       "longitude                    0.000000\n",
       "dtype: float64"
      ]
     },
     "execution_count": 23,
     "metadata": {},
     "output_type": "execute_result"
    }
   ],
   "source": [
    "df.isna().sum() / df['airbnb_id'].count()"
   ]
  },
  {
   "cell_type": "markdown",
   "id": "f655ecdc",
   "metadata": {
    "heading_collapsed": true,
    "hidden": true
   },
   "source": [
    "### 1.9.4 Fillout Na"
   ]
  },
  {
   "cell_type": "code",
   "execution_count": 24,
   "id": "aca821d4",
   "metadata": {
    "ExecuteTime": {
     "end_time": "2022-12-24T20:22:08.907980Z",
     "start_time": "2022-12-24T20:22:08.633502Z"
    },
    "hidden": true
   },
   "outputs": [],
   "source": [
    "df.dropna(inplace=True)"
   ]
  },
  {
   "cell_type": "markdown",
   "id": "ff526995",
   "metadata": {
    "heading_collapsed": true,
    "hidden": true
   },
   "source": [
    "## 1.10 Descriptive Statistical"
   ]
  },
  {
   "cell_type": "code",
   "execution_count": 25,
   "id": "66cb36db",
   "metadata": {
    "ExecuteTime": {
     "end_time": "2022-12-24T20:22:08.934142Z",
     "start_time": "2022-12-24T20:22:08.915681Z"
    },
    "hidden": true
   },
   "outputs": [],
   "source": [
    "num_attributes = ['price', 'number_of_bathrooms', 'number_of_bedrooms', 'number_of_beds', 'number_of_guests']"
   ]
  },
  {
   "cell_type": "markdown",
   "id": "123ad64e",
   "metadata": {
    "heading_collapsed": true,
    "hidden": true
   },
   "source": [
    "### 1.10.1 Numerical Attributes"
   ]
  },
  {
   "cell_type": "code",
   "execution_count": 26,
   "id": "27c07da1",
   "metadata": {
    "ExecuteTime": {
     "end_time": "2022-12-24T20:22:11.619382Z",
     "start_time": "2022-12-24T20:22:08.941650Z"
    },
    "hidden": true
   },
   "outputs": [
    {
     "data": {
      "text/html": [
       "<div>\n",
       "<style scoped>\n",
       "    .dataframe tbody tr th:only-of-type {\n",
       "        vertical-align: middle;\n",
       "    }\n",
       "\n",
       "    .dataframe tbody tr th {\n",
       "        vertical-align: top;\n",
       "    }\n",
       "\n",
       "    .dataframe thead th {\n",
       "        text-align: right;\n",
       "    }\n",
       "</style>\n",
       "<table border=\"1\" class=\"dataframe\">\n",
       "  <thead>\n",
       "    <tr style=\"text-align: right;\">\n",
       "      <th></th>\n",
       "      <th>min</th>\n",
       "      <th>max</th>\n",
       "      <th>range</th>\n",
       "      <th>mean</th>\n",
       "      <th>median</th>\n",
       "      <th>std</th>\n",
       "      <th>skew</th>\n",
       "      <th>kurtosis</th>\n",
       "    </tr>\n",
       "  </thead>\n",
       "  <tbody>\n",
       "    <tr>\n",
       "      <th>price</th>\n",
       "      <td>48.0</td>\n",
       "      <td>3999.0</td>\n",
       "      <td>3951.0</td>\n",
       "      <td>653.151431</td>\n",
       "      <td>500.0</td>\n",
       "      <td>515.326681</td>\n",
       "      <td>2.164565</td>\n",
       "      <td>6.201540</td>\n",
       "    </tr>\n",
       "    <tr>\n",
       "      <th>number_of_bathrooms</th>\n",
       "      <td>1.0</td>\n",
       "      <td>12.0</td>\n",
       "      <td>11.0</td>\n",
       "      <td>2.171190</td>\n",
       "      <td>2.0</td>\n",
       "      <td>0.924098</td>\n",
       "      <td>1.417277</td>\n",
       "      <td>6.828662</td>\n",
       "    </tr>\n",
       "    <tr>\n",
       "      <th>number_of_bedrooms</th>\n",
       "      <td>1.0</td>\n",
       "      <td>12.0</td>\n",
       "      <td>11.0</td>\n",
       "      <td>2.591521</td>\n",
       "      <td>3.0</td>\n",
       "      <td>0.906626</td>\n",
       "      <td>1.001365</td>\n",
       "      <td>7.592063</td>\n",
       "    </tr>\n",
       "    <tr>\n",
       "      <th>number_of_beds</th>\n",
       "      <td>0.0</td>\n",
       "      <td>50.0</td>\n",
       "      <td>50.0</td>\n",
       "      <td>3.729571</td>\n",
       "      <td>3.0</td>\n",
       "      <td>2.203981</td>\n",
       "      <td>6.324022</td>\n",
       "      <td>104.438559</td>\n",
       "    </tr>\n",
       "    <tr>\n",
       "      <th>number_of_guests</th>\n",
       "      <td>1.0</td>\n",
       "      <td>16.0</td>\n",
       "      <td>15.0</td>\n",
       "      <td>6.829188</td>\n",
       "      <td>6.0</td>\n",
       "      <td>2.509208</td>\n",
       "      <td>0.588525</td>\n",
       "      <td>1.442994</td>\n",
       "    </tr>\n",
       "  </tbody>\n",
       "</table>\n",
       "</div>"
      ],
      "text/plain": [
       "                      min     max   range        mean  median         std  \\\n",
       "price                48.0  3999.0  3951.0  653.151431   500.0  515.326681   \n",
       "number_of_bathrooms   1.0    12.0    11.0    2.171190     2.0    0.924098   \n",
       "number_of_bedrooms    1.0    12.0    11.0    2.591521     3.0    0.906626   \n",
       "number_of_beds        0.0    50.0    50.0    3.729571     3.0    2.203981   \n",
       "number_of_guests      1.0    16.0    15.0    6.829188     6.0    2.509208   \n",
       "\n",
       "                         skew    kurtosis  \n",
       "price                2.164565    6.201540  \n",
       "number_of_bathrooms  1.417277    6.828662  \n",
       "number_of_bedrooms   1.001365    7.592063  \n",
       "number_of_beds       6.324022  104.438559  \n",
       "number_of_guests     0.588525    1.442994  "
      ]
     },
     "execution_count": 26,
     "metadata": {},
     "output_type": "execute_result"
    }
   ],
   "source": [
    "# Central tendency\n",
    "ct1 = pd.DataFrame(df[num_attributes].apply(np.mean)).T\n",
    "ct2 = pd.DataFrame(df[num_attributes].apply(np.median)).T\n",
    "\n",
    "# Dispersion\n",
    "d1 = pd.DataFrame(df[num_attributes].apply(np.std)).T\n",
    "d2 = pd.DataFrame(df[num_attributes].apply(min)).T\n",
    "d3 = pd.DataFrame(df[num_attributes].apply(max)).T\n",
    "d4 = pd.DataFrame(df[num_attributes].apply(lambda x: x.max() - x.min())).T\n",
    "d5 = pd.DataFrame(df[num_attributes].apply(lambda x: x.skew())).T\n",
    "d6 = pd.DataFrame(df[num_attributes].apply(lambda x: x.kurtosis())).T\n",
    "\n",
    "# Concat\n",
    "temp = pd.concat([d2, d3, d4, ct1, ct2, d1, d5, d6]).T\n",
    "temp.columns = 'min max range mean median std skew kurtosis'.split()\n",
    "temp"
   ]
  },
  {
   "cell_type": "code",
   "execution_count": 27,
   "id": "03e9614c",
   "metadata": {
    "ExecuteTime": {
     "end_time": "2022-12-24T20:22:13.204537Z",
     "start_time": "2022-12-24T20:22:11.639617Z"
    },
    "hidden": true
   },
   "outputs": [
    {
     "data": {
      "text/plain": [
       "<AxesSubplot: >"
      ]
     },
     "execution_count": 27,
     "metadata": {},
     "output_type": "execute_result"
    },
    {
     "data": {
      "image/png": "[encoded data removed]",
      "text/plain": [
       "<Figure size 800x550 with 2 Axes>"
      ]
     },
     "metadata": {},
     "output_type": "display_data"
    }
   ],
   "source": [
    "sns.heatmap(df[num_attributes].corr(), annot=True)"
   ]
  },
  {
   "cell_type": "markdown",
   "id": "e2d6181b",
   "metadata": {
    "heading_collapsed": true,
    "hidden": true
   },
   "source": [
    "### 1.10.2 Categorical Attributes"
   ]
  },
  {
   "cell_type": "code",
   "execution_count": null,
   "id": "283f7427",
   "metadata": {
    "hidden": true
   },
   "outputs": [],
   "source": []
  },
  {
   "cell_type": "markdown",
   "id": "2a025cc5",
   "metadata": {},
   "source": [
    "# 2.0 Feature Engineering"
   ]
  },
  {
   "cell_type": "code",
   "execution_count": 28,
   "id": "e19b7450",
   "metadata": {
    "ExecuteTime": {
     "end_time": "2022-12-24T20:22:13.305667Z",
     "start_time": "2022-12-24T20:22:13.211204Z"
    }
   },
   "outputs": [],
   "source": [
    "# filtering by sold only\n",
    "df = df[df['available']==0]"
   ]
  },
  {
   "cell_type": "code",
   "execution_count": 29,
   "id": "ed10d971",
   "metadata": {
    "ExecuteTime": {
     "end_time": "2022-12-24T20:22:13.531284Z",
     "start_time": "2022-12-24T20:22:13.311285Z"
    }
   },
   "outputs": [],
   "source": [
    "# date range\n",
    "max_date = prices['date'].max().strftime('%Y-%m-%d')\n",
    "min_date = prices['date'].min().strftime('%Y-%m-%d')\n",
    "min_date = pd.to_datetime(min_date)\n",
    "max_date = pd.to_datetime(max_date)\n",
    "date_delta = (max_date - min_date).days + 1\n",
    "\n",
    "# data reference\n",
    "df_ref = df[['airbnb_id']].drop_duplicates(ignore_index=True)\n",
    "\n",
    "# lifetime value\n",
    "temp = df.groupby('airbnb_id').agg({'price':'sum'}).reset_index().rename(columns=({'price':'gross_revenue'}))\n",
    "df_ref = pd.merge(df_ref, temp, on='airbnb_id', how='left')\n",
    "\n",
    "# recency\n",
    "temp = df.groupby('airbnb_id').agg({'date':'max'}).reset_index().rename(columns=({'date':'last_revenue'}))\n",
    "temp['recency'] = (max_date - temp['last_revenue']).dt.days\n",
    "temp.drop(['last_revenue'], axis=1, inplace=True)\n",
    "df_ref = pd.merge(df_ref, temp, on='airbnb_id', how='left')\n",
    "\n",
    "# frequency\n",
    "temp = df.groupby('airbnb_id').agg({'price':'count'}).reset_index().rename(columns=({'price':'quantity_sell'}))\n",
    "temp['frequency'] = 1 / (date_delta / temp['quantity_sell'])\n",
    "temp.drop('quantity_sell', axis=1, inplace=True)\n",
    "df_ref = pd.merge(df_ref, temp, on='airbnb_id', how='left')"
   ]
  },
  {
   "cell_type": "markdown",
   "id": "0e0e92ea",
   "metadata": {
    "heading_collapsed": true
   },
   "source": [
    "# 3.0 Exploratory Data Analysis"
   ]
  },
  {
   "cell_type": "code",
   "execution_count": null,
   "id": "3c291d27",
   "metadata": {
    "hidden": true
   },
   "outputs": [],
   "source": []
  },
  {
   "cell_type": "markdown",
   "id": "d7b0d0ee",
   "metadata": {
    "heading_collapsed": true
   },
   "source": [
    "# 4.0 Data Filtering"
   ]
  },
  {
   "cell_type": "markdown",
   "id": "e3c28488",
   "metadata": {
    "heading_collapsed": true,
    "hidden": true
   },
   "source": [
    "## 4.1 Columns Filtering"
   ]
  },
  {
   "cell_type": "code",
   "execution_count": null,
   "id": "5496a1b5",
   "metadata": {
    "hidden": true
   },
   "outputs": [],
   "source": []
  },
  {
   "cell_type": "markdown",
   "id": "74500da4",
   "metadata": {
    "heading_collapsed": true,
    "hidden": true
   },
   "source": [
    "## 4.2 Rows Filtering"
   ]
  },
  {
   "cell_type": "code",
   "execution_count": null,
   "id": "49c1b2bf",
   "metadata": {
    "ExecuteTime": {
     "start_time": "2022-12-23T22:48:54.195Z"
    },
    "hidden": true
   },
   "outputs": [],
   "source": []
  },
  {
   "cell_type": "markdown",
   "id": "1e184ecb",
   "metadata": {
    "heading_collapsed": true
   },
   "source": [
    "# 5.0 Data Preparation"
   ]
  },
  {
   "cell_type": "code",
   "execution_count": null,
   "id": "9d578871",
   "metadata": {
    "hidden": true
   },
   "outputs": [],
   "source": []
  },
  {
   "cell_type": "markdown",
   "id": "496b3462",
   "metadata": {
    "heading_collapsed": true
   },
   "source": [
    "# 6.0 Feature Selection"
   ]
  },
  {
   "cell_type": "code",
   "execution_count": null,
   "id": "65919f99",
   "metadata": {
    "hidden": true
   },
   "outputs": [],
   "source": []
  },
  {
   "cell_type": "markdown",
   "id": "cf3cfe4b",
   "metadata": {},
   "source": [
    "# 7.0 Hyperparameter Fine-tuning"
   ]
  },
  {
   "cell_type": "code",
   "execution_count": 30,
   "id": "3bed056a",
   "metadata": {
    "ExecuteTime": {
     "end_time": "2022-12-24T20:22:13.551958Z",
     "start_time": "2022-12-24T20:22:13.531284Z"
    }
   },
   "outputs": [],
   "source": [
    "X = df_ref.drop('airbnb_id', axis=1)"
   ]
  },
  {
   "cell_type": "markdown",
   "id": "af746030",
   "metadata": {},
   "source": [
    "## 7.1 Within-Cluster Sum of Square (WSS)"
   ]
  },
  {
   "cell_type": "code",
   "execution_count": 31,
   "id": "9fa8a846",
   "metadata": {
    "ExecuteTime": {
     "end_time": "2022-12-24T20:22:15.628520Z",
     "start_time": "2022-12-24T20:22:13.557784Z"
    }
   },
   "outputs": [
    {
     "data": {
      "image/png": "[encoded data removed]",
      "text/plain": [
       "<Figure size 800x550 with 1 Axes>"
      ]
     },
     "metadata": {},
     "output_type": "display_data"
    }
   ],
   "source": [
    "clusters = [2, 3, 4, 5, 6]\n",
    "kmeans = KElbowVisualizer(c.KMeans(n_init=10), k=clusters, timings=False)\n",
    "kmeans.fit(X)\n",
    "kmeans.show();"
   ]
  },
  {
   "cell_type": "markdown",
   "id": "40321f27",
   "metadata": {},
   "source": [
    "## 7.2 Silhouette Score"
   ]
  },
  {
   "cell_type": "code",
   "execution_count": 32,
   "id": "b0f650cf",
   "metadata": {
    "ExecuteTime": {
     "end_time": "2022-12-24T20:22:17.150594Z",
     "start_time": "2022-12-24T20:22:15.631558Z"
    }
   },
   "outputs": [
    {
     "data": {
      "image/png": "[encoded data removed]",
      "text/plain": [
       "<Figure size 800x550 with 1 Axes>"
      ]
     },
     "metadata": {},
     "output_type": "display_data"
    }
   ],
   "source": [
    "clusters = [2, 3, 4, 5, 6]\n",
    "kmeans = KElbowVisualizer(c.KMeans(n_init=10), metric='silhouette', k=clusters, timings=False)\n",
    "kmeans.fit(X)\n",
    "kmeans.show();"
   ]
  },
  {
   "cell_type": "markdown",
   "id": "cf8e1fbe",
   "metadata": {},
   "source": [
    "# 8.0 Clustering Model Training"
   ]
  },
  {
   "cell_type": "code",
   "execution_count": 33,
   "id": "bb7ba9e6",
   "metadata": {
    "ExecuteTime": {
     "end_time": "2022-12-24T20:22:17.268817Z",
     "start_time": "2022-12-24T20:22:17.156149Z"
    }
   },
   "outputs": [],
   "source": [
    "k = 3\n",
    "\n",
    "# model definition\n",
    "kmeans = c.KMeans(init='random', n_clusters=k, n_init=10, max_iter=300, random_state=100)\n",
    "\n",
    "# model training\n",
    "kmeans.fit(X)\n",
    "\n",
    "# clustering\n",
    "labels = kmeans.labels_\n",
    "df_ref['cluster'] = labels"
   ]
  },
  {
   "cell_type": "code",
   "execution_count": 34,
   "id": "e1cc46b6",
   "metadata": {
    "ExecuteTime": {
     "end_time": "2022-12-24T20:22:17.445177Z",
     "start_time": "2022-12-24T20:22:17.268817Z"
    }
   },
   "outputs": [
    {
     "name": "stdout",
     "output_type": "stream",
     "text": [
      "WSS value: 5568500140312.926\n",
      "SS value: 0.6641280010767592\n"
     ]
    }
   ],
   "source": [
    "# WSS (Within-cluster sum of squares)\n",
    "print(f'WSS value: {kmeans.inertia_}')\n",
    "\n",
    "# SS (silhouette)\n",
    "print(f'SS value: {m.silhouette_score(X, labels, metric=\"euclidean\")}')"
   ]
  },
  {
   "cell_type": "markdown",
   "id": "86d27fdb",
   "metadata": {},
   "source": [
    "# 9.0 Clustering Analysis"
   ]
  },
  {
   "cell_type": "markdown",
   "id": "b66fcf79",
   "metadata": {},
   "source": [
    "## 9.1 Visual Inpection"
   ]
  },
  {
   "cell_type": "code",
   "execution_count": 37,
   "id": "ce980f4d",
   "metadata": {
    "ExecuteTime": {
     "end_time": "2022-12-24T20:27:24.977265Z",
     "start_time": "2022-12-24T20:27:24.837120Z"
    },
    "scrolled": false
   },
   "outputs": [
    {
     "data": {
      "image/jpeg": "[encoded data removed]",
      "text/plain": [
       "<IPython.core.display.Image object>"
      ]
     },
     "execution_count": 37,
     "metadata": {},
     "output_type": "execute_result"
    }
   ],
   "source": [
    "fig = px.scatter_3d(df_ref, x='gross_revenue', y='recency', z='frequency', color='cluster')\n",
    "# fig.show()\n",
    "Image('D:\\\\My Drive\\\\Pessoal\\\\Projetos\\\\seazone_code_challenge\\\\img\\\\3d_plot.jpg')"
   ]
  },
  {
   "cell_type": "markdown",
   "id": "6cbc6e72",
   "metadata": {},
   "source": [
    "## 9.2 Cluster Profile"
   ]
  },
  {
   "cell_type": "code",
   "execution_count": null,
   "id": "ad89c6a4",
   "metadata": {},
   "outputs": [],
   "source": []
  }
 ],
 "metadata": {
  "kernelspec": {
   "display_name": "Python 3 (ipykernel)",
   "language": "python",
   "name": "python3"
  },
  "language_info": {
   "codemirror_mode": {
    "name": "ipython",
    "version": 3
   },
   "file_extension": ".py",
   "mimetype": "text/x-python",
   "name": "python",
   "nbconvert_exporter": "python",
   "pygments_lexer": "ipython3",
   "version": "3.9.13"
  }
 },
 "nbformat": 4,
 "nbformat_minor": 5
}
