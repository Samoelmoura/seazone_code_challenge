{
 "cells": [
  {
   "cell_type": "markdown",
   "id": "2b9a6088",
   "metadata": {
    "heading_collapsed": true
   },
   "source": [
    "# 0.0 Imports"
   ]
  },
  {
   "cell_type": "code",
   "execution_count": 1,
   "id": "7ff32fd5",
   "metadata": {
    "ExecuteTime": {
     "end_time": "2022-12-23T23:19:26.016993Z",
     "start_time": "2022-12-23T23:19:24.475221Z"
    },
    "hidden": true
   },
   "outputs": [],
   "source": [
    "import pandas as pd\n",
    "import numpy as np\n",
    "import regex as re\n",
    "import seaborn as sns\n",
    "\n",
    "from geopy.geocoders import Nominatim"
   ]
  },
  {
   "cell_type": "markdown",
   "id": "2064010c",
   "metadata": {
    "heading_collapsed": true,
    "hidden": true
   },
   "source": [
    "## 0.1 Loading Dataset"
   ]
  },
  {
   "cell_type": "code",
   "execution_count": 2,
   "id": "fb358546",
   "metadata": {
    "ExecuteTime": {
     "end_time": "2022-12-23T23:20:30.554067Z",
     "start_time": "2022-12-23T23:19:26.019025Z"
    },
    "hidden": true
   },
   "outputs": [],
   "source": [
    "prices_raw = pd.read_csv('D:\\\\My Drive\\\\Pessoal\\\\Projetos\\\\seazone_code_challenge\\\\data\\\\raw\\\\Price_AV_Itapema.csv', low_memory=False)\n",
    "vivareal_raw = pd.read_csv('D:\\\\My Drive\\\\Pessoal\\\\Projetos\\\\seazone_code_challenge\\\\data\\\\raw\\\\VivaReal_Itapema.csv')\n",
    "details_raw = pd.read_csv('D:\\\\My Drive\\\\Pessoal\\\\Projetos\\\\seazone_code_challenge\\\\data\\\\raw\\\\Details_Data.csv')\n",
    "hosts_raw = pd.read_csv('D:\\\\My Drive\\\\Pessoal\\\\Projetos\\\\seazone_code_challenge\\\\data\\\\raw\\\\Hosts_ids_Itapema.csv')\n",
    "mesh_raw = pd.read_csv('D:\\\\My Drive\\\\Pessoal\\\\Projetos\\\\seazone_code_challenge\\\\data\\\\raw\\\\Mesh_Ids_Data_Itapema.csv')"
   ]
  },
  {
   "cell_type": "markdown",
   "id": "1ce50848",
   "metadata": {
    "heading_collapsed": true,
    "hidden": true
   },
   "source": [
    "## 0.2 Helper Functions"
   ]
  },
  {
   "cell_type": "code",
   "execution_count": 3,
   "id": "675eed71",
   "metadata": {
    "ExecuteTime": {
     "end_time": "2022-12-23T23:20:30.599748Z",
     "start_time": "2022-12-23T23:20:30.569394Z"
    },
    "hidden": true
   },
   "outputs": [],
   "source": [
    "def get_city(x):\n",
    "    geolocator = Nominatim(user_agent=\"geoapiExercises\")\n",
    "    lat = str(x[0])\n",
    "    long = str(x[1])\n",
    "    location = geolocator.reverse(lat+\",\"+long)\n",
    "    city = location.address.split(',')[2].strip()\n",
    "    return city\n",
    "\n",
    "def search_outliers(df, series):\n",
    "    q1 = np.percentile(df[series], 25)\n",
    "    q3 = np.percentile(df[series], 75)\n",
    "    distancia = q3 - q1\n",
    "    salto = distancia * 1.5\n",
    "    li = q1 - salto\n",
    "    ls = q3 + salto\n",
    "    indices = df[(df[series]<li)|(df[series]>ls)].index\n",
    "    return indices, li, ls"
   ]
  },
  {
   "cell_type": "markdown",
   "id": "e606b8b5",
   "metadata": {
    "heading_collapsed": true
   },
   "source": [
    "# 1.0 Data Description"
   ]
  },
  {
   "cell_type": "code",
   "execution_count": 4,
   "id": "9221bde2",
   "metadata": {
    "ExecuteTime": {
     "end_time": "2022-12-23T23:20:32.387304Z",
     "start_time": "2022-12-23T23:20:30.608042Z"
    },
    "hidden": true
   },
   "outputs": [],
   "source": [
    "details = details_raw.copy()\n",
    "prices = prices_raw.copy()\n",
    "mesh = mesh_raw.copy()\n",
    "vivareal = vivareal_raw.copy()\n",
    "hosts = hosts_raw.copy()"
   ]
  },
  {
   "cell_type": "markdown",
   "id": "c9670e0a",
   "metadata": {
    "heading_collapsed": true,
    "hidden": true
   },
   "source": [
    "## 1.1 Looking Datasets"
   ]
  },
  {
   "cell_type": "code",
   "execution_count": 5,
   "id": "849c94c3",
   "metadata": {
    "ExecuteTime": {
     "end_time": "2022-12-23T23:20:32.434109Z",
     "start_time": "2022-12-23T23:20:32.390052Z"
    },
    "hidden": true
   },
   "outputs": [
    {
     "data": {
      "text/html": [
       "<div>\n",
       "<style scoped>\n",
       "    .dataframe tbody tr th:only-of-type {\n",
       "        vertical-align: middle;\n",
       "    }\n",
       "\n",
       "    .dataframe tbody tr th {\n",
       "        vertical-align: top;\n",
       "    }\n",
       "\n",
       "    .dataframe thead th {\n",
       "        text-align: right;\n",
       "    }\n",
       "</style>\n",
       "<table border=\"1\" class=\"dataframe\">\n",
       "  <thead>\n",
       "    <tr style=\"text-align: right;\">\n",
       "      <th></th>\n",
       "      <th>airbnb_listing_id</th>\n",
       "      <th>date</th>\n",
       "      <th>price</th>\n",
       "      <th>price_string</th>\n",
       "      <th>minimum_stay</th>\n",
       "      <th>available</th>\n",
       "      <th>aquisition_date</th>\n",
       "      <th>av_for_checkin</th>\n",
       "      <th>av_for_checkout</th>\n",
       "      <th>index</th>\n",
       "      <th>bookable</th>\n",
       "      <th>ano</th>\n",
       "      <th>mes</th>\n",
       "      <th>dia</th>\n",
       "    </tr>\n",
       "  </thead>\n",
       "  <tbody>\n",
       "    <tr>\n",
       "      <th>0</th>\n",
       "      <td>22258063</td>\n",
       "      <td>2022-11-27</td>\n",
       "      <td>460.0</td>\n",
       "      <td>R$460</td>\n",
       "      <td>2</td>\n",
       "      <td>True</td>\n",
       "      <td>2022-11-27 05:28:18.654</td>\n",
       "      <td>True</td>\n",
       "      <td>NaN</td>\n",
       "      <td>NaN</td>\n",
       "      <td>NaN</td>\n",
       "      <td>2022</td>\n",
       "      <td>11</td>\n",
       "      <td>27</td>\n",
       "    </tr>\n",
       "    <tr>\n",
       "      <th>1</th>\n",
       "      <td>22258063</td>\n",
       "      <td>2022-11-28</td>\n",
       "      <td>460.0</td>\n",
       "      <td>R$460</td>\n",
       "      <td>2</td>\n",
       "      <td>True</td>\n",
       "      <td>2022-11-27 05:28:18.654</td>\n",
       "      <td>True</td>\n",
       "      <td>NaN</td>\n",
       "      <td>NaN</td>\n",
       "      <td>NaN</td>\n",
       "      <td>2022</td>\n",
       "      <td>11</td>\n",
       "      <td>27</td>\n",
       "    </tr>\n",
       "    <tr>\n",
       "      <th>2</th>\n",
       "      <td>22258063</td>\n",
       "      <td>2022-11-29</td>\n",
       "      <td>460.0</td>\n",
       "      <td>R$460</td>\n",
       "      <td>2</td>\n",
       "      <td>True</td>\n",
       "      <td>2022-11-27 05:28:18.654</td>\n",
       "      <td>True</td>\n",
       "      <td>NaN</td>\n",
       "      <td>NaN</td>\n",
       "      <td>NaN</td>\n",
       "      <td>2022</td>\n",
       "      <td>11</td>\n",
       "      <td>27</td>\n",
       "    </tr>\n",
       "    <tr>\n",
       "      <th>3</th>\n",
       "      <td>22258063</td>\n",
       "      <td>2022-11-30</td>\n",
       "      <td>460.0</td>\n",
       "      <td>R$460</td>\n",
       "      <td>2</td>\n",
       "      <td>True</td>\n",
       "      <td>2022-11-27 05:28:18.654</td>\n",
       "      <td>True</td>\n",
       "      <td>NaN</td>\n",
       "      <td>NaN</td>\n",
       "      <td>NaN</td>\n",
       "      <td>2022</td>\n",
       "      <td>11</td>\n",
       "      <td>27</td>\n",
       "    </tr>\n",
       "    <tr>\n",
       "      <th>4</th>\n",
       "      <td>22258063</td>\n",
       "      <td>2022-12-01</td>\n",
       "      <td>500.0</td>\n",
       "      <td>R$500</td>\n",
       "      <td>2</td>\n",
       "      <td>True</td>\n",
       "      <td>2022-11-27 05:28:18.654</td>\n",
       "      <td>True</td>\n",
       "      <td>NaN</td>\n",
       "      <td>NaN</td>\n",
       "      <td>NaN</td>\n",
       "      <td>2022</td>\n",
       "      <td>11</td>\n",
       "      <td>27</td>\n",
       "    </tr>\n",
       "  </tbody>\n",
       "</table>\n",
       "</div>"
      ],
      "text/plain": [
       "   airbnb_listing_id        date  price price_string  minimum_stay  available  \\\n",
       "0           22258063  2022-11-27  460.0        R$460             2       True   \n",
       "1           22258063  2022-11-28  460.0        R$460             2       True   \n",
       "2           22258063  2022-11-29  460.0        R$460             2       True   \n",
       "3           22258063  2022-11-30  460.0        R$460             2       True   \n",
       "4           22258063  2022-12-01  500.0        R$500             2       True   \n",
       "\n",
       "           aquisition_date av_for_checkin  av_for_checkout  index  bookable  \\\n",
       "0  2022-11-27 05:28:18.654           True              NaN    NaN       NaN   \n",
       "1  2022-11-27 05:28:18.654           True              NaN    NaN       NaN   \n",
       "2  2022-11-27 05:28:18.654           True              NaN    NaN       NaN   \n",
       "3  2022-11-27 05:28:18.654           True              NaN    NaN       NaN   \n",
       "4  2022-11-27 05:28:18.654           True              NaN    NaN       NaN   \n",
       "\n",
       "    ano  mes  dia  \n",
       "0  2022   11   27  \n",
       "1  2022   11   27  \n",
       "2  2022   11   27  \n",
       "3  2022   11   27  \n",
       "4  2022   11   27  "
      ]
     },
     "execution_count": 5,
     "metadata": {},
     "output_type": "execute_result"
    }
   ],
   "source": [
    "prices.head()"
   ]
  },
  {
   "cell_type": "code",
   "execution_count": 6,
   "id": "8dbde163",
   "metadata": {
    "ExecuteTime": {
     "end_time": "2022-12-23T23:20:32.465139Z",
     "start_time": "2022-12-23T23:20:32.436129Z"
    },
    "hidden": true
   },
   "outputs": [
    {
     "data": {
      "text/html": [
       "<div>\n",
       "<style scoped>\n",
       "    .dataframe tbody tr th:only-of-type {\n",
       "        vertical-align: middle;\n",
       "    }\n",
       "\n",
       "    .dataframe tbody tr th {\n",
       "        vertical-align: top;\n",
       "    }\n",
       "\n",
       "    .dataframe thead th {\n",
       "        text-align: right;\n",
       "    }\n",
       "</style>\n",
       "<table border=\"1\" class=\"dataframe\">\n",
       "  <thead>\n",
       "    <tr style=\"text-align: right;\">\n",
       "      <th></th>\n",
       "      <th>listing_id</th>\n",
       "      <th>link_name</th>\n",
       "      <th>link_url</th>\n",
       "      <th>listing_type</th>\n",
       "      <th>listing_title</th>\n",
       "      <th>listing_desc</th>\n",
       "      <th>business_types</th>\n",
       "      <th>unit_type</th>\n",
       "      <th>unit_subtype</th>\n",
       "      <th>property_type</th>\n",
       "      <th>...</th>\n",
       "      <th>advertiser_id</th>\n",
       "      <th>advertiser_name</th>\n",
       "      <th>advertiser_phones</th>\n",
       "      <th>advertiser_whatsapp</th>\n",
       "      <th>advertiser_url</th>\n",
       "      <th>portal</th>\n",
       "      <th>aquisition_date</th>\n",
       "      <th>ano</th>\n",
       "      <th>mes</th>\n",
       "      <th>dia</th>\n",
       "    </tr>\n",
       "  </thead>\n",
       "  <tbody>\n",
       "    <tr>\n",
       "      <th>0</th>\n",
       "      <td>2570403797</td>\n",
       "      <td>Apartamento com 4 Quartos à venda, 187m²</td>\n",
       "      <td>https://www.vivareal.com.br/imovel/apartamento...</td>\n",
       "      <td>USED</td>\n",
       "      <td>Apartamento com 4 dormitórios à venda, 187 m² ...</td>\n",
       "      <td>Situado em uma das melhores regiões da Meia Pr...</td>\n",
       "      <td>[\"SALE\"]</td>\n",
       "      <td>APARTMENT</td>\n",
       "      <td>NaN</td>\n",
       "      <td>UNIT</td>\n",
       "      <td>...</td>\n",
       "      <td>39507409-01f8-3935-dc38-e0fea684b44a</td>\n",
       "      <td>Winner Brokers</td>\n",
       "      <td>[\"44984349088\"]</td>\n",
       "      <td>4.498435e+10</td>\n",
       "      <td>https://www.vivareal.com.br/770696/winner-brok...</td>\n",
       "      <td>GRUPOZAP</td>\n",
       "      <td>2022-12-06 00:00:00.000</td>\n",
       "      <td>2022</td>\n",
       "      <td>12</td>\n",
       "      <td>6</td>\n",
       "    </tr>\n",
       "    <tr>\n",
       "      <th>1</th>\n",
       "      <td>2510420914</td>\n",
       "      <td>Apartamento com 4 Quartos à venda, 253m²</td>\n",
       "      <td>https://www.vivareal.com.br/imovel/apartamento...</td>\n",
       "      <td>USED</td>\n",
       "      <td>Apartamento com 4 suítes 3 vagas em Itapema SC</td>\n",
       "      <td>Apartamentos com 04 suítes, 03 vagas de garage...</td>\n",
       "      <td>[\"SALE\"]</td>\n",
       "      <td>APARTMENT</td>\n",
       "      <td>NaN</td>\n",
       "      <td>UNIT</td>\n",
       "      <td>...</td>\n",
       "      <td>cc5bc87d-b746-8b05-90f8-ef61f5020a69</td>\n",
       "      <td>FRANCA FERRAZ IMOBILIARIA</td>\n",
       "      <td>[\"4733630740\", \"47996961130\"]</td>\n",
       "      <td>4.799696e+10</td>\n",
       "      <td>https://www.vivareal.com.br/116267/franca-ferr...</td>\n",
       "      <td>GRUPOZAP</td>\n",
       "      <td>2022-12-06 00:00:00.000</td>\n",
       "      <td>2022</td>\n",
       "      <td>12</td>\n",
       "      <td>6</td>\n",
       "    </tr>\n",
       "    <tr>\n",
       "      <th>2</th>\n",
       "      <td>2594648655</td>\n",
       "      <td>Apartamento com 4 Quartos à venda, 210m²</td>\n",
       "      <td>https://www.vivareal.com.br/imovel/apartamento...</td>\n",
       "      <td>USED</td>\n",
       "      <td>Apartamento à venda, Centro, Itapema, SC</td>\n",
       "      <td>Apartamento à Venda, 210m² por R$ 3.000.000. C...</td>\n",
       "      <td>[\"SALE\"]</td>\n",
       "      <td>APARTMENT</td>\n",
       "      <td>NaN</td>\n",
       "      <td>UNIT</td>\n",
       "      <td>...</td>\n",
       "      <td>ac9f84ae-1363-d2aa-1a6d-4adf1631539f</td>\n",
       "      <td>ARBO IMÓVEIS</td>\n",
       "      <td>[\"11999293012\"]</td>\n",
       "      <td>1.199929e+10</td>\n",
       "      <td>https://www.vivareal.com.br/656548/arbo-imoveis/</td>\n",
       "      <td>GRUPOZAP</td>\n",
       "      <td>2022-12-06 00:00:00.000</td>\n",
       "      <td>2022</td>\n",
       "      <td>12</td>\n",
       "      <td>6</td>\n",
       "    </tr>\n",
       "  </tbody>\n",
       "</table>\n",
       "<p>3 rows × 42 columns</p>\n",
       "</div>"
      ],
      "text/plain": [
       "   listing_id                                 link_name  \\\n",
       "0  2570403797  Apartamento com 4 Quartos à venda, 187m²   \n",
       "1  2510420914  Apartamento com 4 Quartos à venda, 253m²   \n",
       "2  2594648655  Apartamento com 4 Quartos à venda, 210m²   \n",
       "\n",
       "                                            link_url listing_type  \\\n",
       "0  https://www.vivareal.com.br/imovel/apartamento...         USED   \n",
       "1  https://www.vivareal.com.br/imovel/apartamento...         USED   \n",
       "2  https://www.vivareal.com.br/imovel/apartamento...         USED   \n",
       "\n",
       "                                       listing_title  \\\n",
       "0  Apartamento com 4 dormitórios à venda, 187 m² ...   \n",
       "1     Apartamento com 4 suítes 3 vagas em Itapema SC   \n",
       "2           Apartamento à venda, Centro, Itapema, SC   \n",
       "\n",
       "                                        listing_desc business_types  \\\n",
       "0  Situado em uma das melhores regiões da Meia Pr...       [\"SALE\"]   \n",
       "1  Apartamentos com 04 suítes, 03 vagas de garage...       [\"SALE\"]   \n",
       "2  Apartamento à Venda, 210m² por R$ 3.000.000. C...       [\"SALE\"]   \n",
       "\n",
       "   unit_type unit_subtype property_type  ...  \\\n",
       "0  APARTMENT          NaN          UNIT  ...   \n",
       "1  APARTMENT          NaN          UNIT  ...   \n",
       "2  APARTMENT          NaN          UNIT  ...   \n",
       "\n",
       "                          advertiser_id            advertiser_name  \\\n",
       "0  39507409-01f8-3935-dc38-e0fea684b44a             Winner Brokers   \n",
       "1  cc5bc87d-b746-8b05-90f8-ef61f5020a69  FRANCA FERRAZ IMOBILIARIA   \n",
       "2  ac9f84ae-1363-d2aa-1a6d-4adf1631539f               ARBO IMÓVEIS   \n",
       "\n",
       "               advertiser_phones advertiser_whatsapp  \\\n",
       "0                [\"44984349088\"]        4.498435e+10   \n",
       "1  [\"4733630740\", \"47996961130\"]        4.799696e+10   \n",
       "2                [\"11999293012\"]        1.199929e+10   \n",
       "\n",
       "                                      advertiser_url    portal  \\\n",
       "0  https://www.vivareal.com.br/770696/winner-brok...  GRUPOZAP   \n",
       "1  https://www.vivareal.com.br/116267/franca-ferr...  GRUPOZAP   \n",
       "2   https://www.vivareal.com.br/656548/arbo-imoveis/  GRUPOZAP   \n",
       "\n",
       "           aquisition_date   ano  mes  dia  \n",
       "0  2022-12-06 00:00:00.000  2022   12    6  \n",
       "1  2022-12-06 00:00:00.000  2022   12    6  \n",
       "2  2022-12-06 00:00:00.000  2022   12    6  \n",
       "\n",
       "[3 rows x 42 columns]"
      ]
     },
     "execution_count": 6,
     "metadata": {},
     "output_type": "execute_result"
    }
   ],
   "source": [
    "vivareal.head(3)"
   ]
  },
  {
   "cell_type": "code",
   "execution_count": 7,
   "id": "924317f8",
   "metadata": {
    "ExecuteTime": {
     "end_time": "2022-12-23T23:20:32.496691Z",
     "start_time": "2022-12-23T23:20:32.467133Z"
    },
    "hidden": true
   },
   "outputs": [
    {
     "data": {
      "text/html": [
       "<div>\n",
       "<style scoped>\n",
       "    .dataframe tbody tr th:only-of-type {\n",
       "        vertical-align: middle;\n",
       "    }\n",
       "\n",
       "    .dataframe tbody tr th {\n",
       "        vertical-align: top;\n",
       "    }\n",
       "\n",
       "    .dataframe thead th {\n",
       "        text-align: right;\n",
       "    }\n",
       "</style>\n",
       "<table border=\"1\" class=\"dataframe\">\n",
       "  <thead>\n",
       "    <tr style=\"text-align: right;\">\n",
       "      <th></th>\n",
       "      <th>aquisition_date</th>\n",
       "      <th>url</th>\n",
       "      <th>ad_name</th>\n",
       "      <th>ad_description</th>\n",
       "      <th>ad_id</th>\n",
       "      <th>space</th>\n",
       "      <th>house_rules</th>\n",
       "      <th>amenities</th>\n",
       "      <th>safety_features</th>\n",
       "      <th>number_of_bathrooms</th>\n",
       "      <th>...</th>\n",
       "      <th>index</th>\n",
       "      <th>localized_star_rating</th>\n",
       "      <th>response_time_shown</th>\n",
       "      <th>response_rate_shown</th>\n",
       "      <th>guest_satisfaction_overall</th>\n",
       "      <th>picture_count</th>\n",
       "      <th>min_nights</th>\n",
       "      <th>ano</th>\n",
       "      <th>mes</th>\n",
       "      <th>dia</th>\n",
       "    </tr>\n",
       "  </thead>\n",
       "  <tbody>\n",
       "    <tr>\n",
       "      <th>0</th>\n",
       "      <td>2022-07-11 07:21:51.61831</td>\n",
       "      <td>https://www.airbnb.com.br/rooms/27865733</td>\n",
       "      <td>Carambei 106</td>\n",
       "      <td>Apartamento para 8 pessoas, lateral p praia. P...</td>\n",
       "      <td>27865733</td>\n",
       "      <td>Espaco TOP tipo hotel</td>\n",
       "      <td>{\"Não são permitidas festas ou eventos\",\"Anima...</td>\n",
       "      <td>{Cabides,\"Ferro de passar\",\"Máquina de Lavar\",...</td>\n",
       "      <td>{}</td>\n",
       "      <td>2.0</td>\n",
       "      <td>...</td>\n",
       "      <td>11043701.0</td>\n",
       "      <td>NaN</td>\n",
       "      <td>em até uma hora</td>\n",
       "      <td>100%</td>\n",
       "      <td>100.0</td>\n",
       "      <td>31.0</td>\n",
       "      <td>2.0</td>\n",
       "      <td>2022</td>\n",
       "      <td>7</td>\n",
       "      <td>11</td>\n",
       "    </tr>\n",
       "    <tr>\n",
       "      <th>1</th>\n",
       "      <td>2022-07-11 07:28:25.226756</td>\n",
       "      <td>https://www.airbnb.com.br/rooms/52200210</td>\n",
       "      <td>Apto aconchegante na rua + procurada da Meia P...</td>\n",
       "      <td>Sua família vai estar perto de tudo ao ficar n...</td>\n",
       "      <td>52200210</td>\n",
       "      <td>NaN</td>\n",
       "      <td>{\"Animais de estimação são permitidos\"}</td>\n",
       "      <td>{\"Máquina de Lavar\",TV,Ar-condicionado,Wi-Fi,\"...</td>\n",
       "      <td>{}</td>\n",
       "      <td>2.0</td>\n",
       "      <td>...</td>\n",
       "      <td>11082903.0</td>\n",
       "      <td>5,0</td>\n",
       "      <td>em até uma hora</td>\n",
       "      <td>100%</td>\n",
       "      <td>100.0</td>\n",
       "      <td>43.0</td>\n",
       "      <td>2.0</td>\n",
       "      <td>2022</td>\n",
       "      <td>7</td>\n",
       "      <td>11</td>\n",
       "    </tr>\n",
       "    <tr>\n",
       "      <th>2</th>\n",
       "      <td>2022-07-18 07:19:40.053547</td>\n",
       "      <td>https://www.airbnb.com.br/rooms/53372578</td>\n",
       "      <td>Ótimo apartamento em Itapema</td>\n",
       "      <td>Ótimo para período de férias</td>\n",
       "      <td>53372578</td>\n",
       "      <td>O Ap é bastante amplo, sala de star e jantar i...</td>\n",
       "      <td>{\"Animais de estimação são permitidos\"}</td>\n",
       "      <td>{\"Local para guardar as roupas\",\"Blackout nas ...</td>\n",
       "      <td>{\"Extintor de incêndio\"}</td>\n",
       "      <td>2.0</td>\n",
       "      <td>...</td>\n",
       "      <td>11300813.0</td>\n",
       "      <td>3,0</td>\n",
       "      <td>NaN</td>\n",
       "      <td>NaN</td>\n",
       "      <td>60.0</td>\n",
       "      <td>11.0</td>\n",
       "      <td>7.0</td>\n",
       "      <td>2022</td>\n",
       "      <td>7</td>\n",
       "      <td>18</td>\n",
       "    </tr>\n",
       "  </tbody>\n",
       "</table>\n",
       "<p>3 rows × 37 columns</p>\n",
       "</div>"
      ],
      "text/plain": [
       "              aquisition_date                                       url  \\\n",
       "0   2022-07-11 07:21:51.61831  https://www.airbnb.com.br/rooms/27865733   \n",
       "1  2022-07-11 07:28:25.226756  https://www.airbnb.com.br/rooms/52200210   \n",
       "2  2022-07-18 07:19:40.053547  https://www.airbnb.com.br/rooms/53372578   \n",
       "\n",
       "                                             ad_name  \\\n",
       "0                                       Carambei 106   \n",
       "1  Apto aconchegante na rua + procurada da Meia P...   \n",
       "2                       Ótimo apartamento em Itapema   \n",
       "\n",
       "                                      ad_description     ad_id  \\\n",
       "0  Apartamento para 8 pessoas, lateral p praia. P...  27865733   \n",
       "1  Sua família vai estar perto de tudo ao ficar n...  52200210   \n",
       "2                       Ótimo para período de férias  53372578   \n",
       "\n",
       "                                               space  \\\n",
       "0                              Espaco TOP tipo hotel   \n",
       "1                                                NaN   \n",
       "2  O Ap é bastante amplo, sala de star e jantar i...   \n",
       "\n",
       "                                         house_rules  \\\n",
       "0  {\"Não são permitidas festas ou eventos\",\"Anima...   \n",
       "1            {\"Animais de estimação são permitidos\"}   \n",
       "2            {\"Animais de estimação são permitidos\"}   \n",
       "\n",
       "                                           amenities  \\\n",
       "0  {Cabides,\"Ferro de passar\",\"Máquina de Lavar\",...   \n",
       "1  {\"Máquina de Lavar\",TV,Ar-condicionado,Wi-Fi,\"...   \n",
       "2  {\"Local para guardar as roupas\",\"Blackout nas ...   \n",
       "\n",
       "            safety_features  number_of_bathrooms  ...       index  \\\n",
       "0                        {}                  2.0  ...  11043701.0   \n",
       "1                        {}                  2.0  ...  11082903.0   \n",
       "2  {\"Extintor de incêndio\"}                  2.0  ...  11300813.0   \n",
       "\n",
       "   localized_star_rating  response_time_shown  response_rate_shown  \\\n",
       "0                    NaN      em até uma hora                 100%   \n",
       "1                    5,0      em até uma hora                 100%   \n",
       "2                    3,0                  NaN                  NaN   \n",
       "\n",
       "   guest_satisfaction_overall picture_count min_nights   ano mes  dia  \n",
       "0                       100.0          31.0        2.0  2022   7   11  \n",
       "1                       100.0          43.0        2.0  2022   7   11  \n",
       "2                        60.0          11.0        7.0  2022   7   18  \n",
       "\n",
       "[3 rows x 37 columns]"
      ]
     },
     "execution_count": 7,
     "metadata": {},
     "output_type": "execute_result"
    }
   ],
   "source": [
    "details.head(3)"
   ]
  },
  {
   "cell_type": "code",
   "execution_count": 8,
   "id": "89becca1",
   "metadata": {
    "ExecuteTime": {
     "end_time": "2022-12-23T23:20:32.527032Z",
     "start_time": "2022-12-23T23:20:32.502766Z"
    },
    "hidden": true
   },
   "outputs": [
    {
     "data": {
      "text/html": [
       "<div>\n",
       "<style scoped>\n",
       "    .dataframe tbody tr th:only-of-type {\n",
       "        vertical-align: middle;\n",
       "    }\n",
       "\n",
       "    .dataframe tbody tr th {\n",
       "        vertical-align: top;\n",
       "    }\n",
       "\n",
       "    .dataframe thead th {\n",
       "        text-align: right;\n",
       "    }\n",
       "</style>\n",
       "<table border=\"1\" class=\"dataframe\">\n",
       "  <thead>\n",
       "    <tr style=\"text-align: right;\">\n",
       "      <th></th>\n",
       "      <th>host_id</th>\n",
       "      <th>host_name</th>\n",
       "      <th>host_rating</th>\n",
       "      <th>n_reviews</th>\n",
       "      <th>n_reviews_from_host</th>\n",
       "      <th>n_listings</th>\n",
       "      <th>about_host</th>\n",
       "      <th>comments</th>\n",
       "      <th>aquisition_date</th>\n",
       "      <th>ano</th>\n",
       "      <th>mes</th>\n",
       "      <th>dia</th>\n",
       "    </tr>\n",
       "  </thead>\n",
       "  <tbody>\n",
       "    <tr>\n",
       "      <th>0</th>\n",
       "      <td>160913639</td>\n",
       "      <td>Cayo</td>\n",
       "      <td>0.000</td>\n",
       "      <td>0</td>\n",
       "      <td>0</td>\n",
       "      <td>1</td>\n",
       "      <td>NaN</td>\n",
       "      <td>NaN</td>\n",
       "      <td>2022-12-05</td>\n",
       "      <td>2022</td>\n",
       "      <td>12</td>\n",
       "      <td>5</td>\n",
       "    </tr>\n",
       "    <tr>\n",
       "      <th>1</th>\n",
       "      <td>84162292</td>\n",
       "      <td>Ricardo</td>\n",
       "      <td>4.935</td>\n",
       "      <td>42</td>\n",
       "      <td>1</td>\n",
       "      <td>3</td>\n",
       "      <td>Sou casado, tenho uma filha de 9 anos e um fil...</td>\n",
       "      <td>[\"Obrigado Ricardo a estadia  foi ótima muito ...</td>\n",
       "      <td>2022-12-05</td>\n",
       "      <td>2022</td>\n",
       "      <td>12</td>\n",
       "      <td>5</td>\n",
       "    </tr>\n",
       "    <tr>\n",
       "      <th>2</th>\n",
       "      <td>96045548</td>\n",
       "      <td>Eduardo</td>\n",
       "      <td>0.000</td>\n",
       "      <td>26</td>\n",
       "      <td>0</td>\n",
       "      <td>3</td>\n",
       "      <td>NaN</td>\n",
       "      <td>[\"Otimo\", \"muito bom local e muito claro nas e...</td>\n",
       "      <td>2022-12-05</td>\n",
       "      <td>2022</td>\n",
       "      <td>12</td>\n",
       "      <td>5</td>\n",
       "    </tr>\n",
       "  </tbody>\n",
       "</table>\n",
       "</div>"
      ],
      "text/plain": [
       "     host_id host_name  host_rating  n_reviews  n_reviews_from_host  \\\n",
       "0  160913639      Cayo        0.000          0                    0   \n",
       "1   84162292   Ricardo        4.935         42                    1   \n",
       "2   96045548   Eduardo        0.000         26                    0   \n",
       "\n",
       "   n_listings                                         about_host  \\\n",
       "0           1                                                NaN   \n",
       "1           3  Sou casado, tenho uma filha de 9 anos e um fil...   \n",
       "2           3                                                NaN   \n",
       "\n",
       "                                            comments aquisition_date   ano  \\\n",
       "0                                                NaN      2022-12-05  2022   \n",
       "1  [\"Obrigado Ricardo a estadia  foi ótima muito ...      2022-12-05  2022   \n",
       "2  [\"Otimo\", \"muito bom local e muito claro nas e...      2022-12-05  2022   \n",
       "\n",
       "   mes  dia  \n",
       "0   12    5  \n",
       "1   12    5  \n",
       "2   12    5  "
      ]
     },
     "execution_count": 8,
     "metadata": {},
     "output_type": "execute_result"
    }
   ],
   "source": [
    "hosts.head(3)"
   ]
  },
  {
   "cell_type": "code",
   "execution_count": 9,
   "id": "604b7a34",
   "metadata": {
    "ExecuteTime": {
     "end_time": "2022-12-23T23:20:32.542536Z",
     "start_time": "2022-12-23T23:20:32.528986Z"
    },
    "hidden": true
   },
   "outputs": [
    {
     "data": {
      "text/html": [
       "<div>\n",
       "<style scoped>\n",
       "    .dataframe tbody tr th:only-of-type {\n",
       "        vertical-align: middle;\n",
       "    }\n",
       "\n",
       "    .dataframe tbody tr th {\n",
       "        vertical-align: top;\n",
       "    }\n",
       "\n",
       "    .dataframe thead th {\n",
       "        text-align: right;\n",
       "    }\n",
       "</style>\n",
       "<table border=\"1\" class=\"dataframe\">\n",
       "  <thead>\n",
       "    <tr style=\"text-align: right;\">\n",
       "      <th></th>\n",
       "      <th>airbnb_listing_id</th>\n",
       "      <th>latitude</th>\n",
       "      <th>longitude</th>\n",
       "      <th>aquisition_date</th>\n",
       "      <th>ano</th>\n",
       "      <th>mes</th>\n",
       "      <th>dia</th>\n",
       "    </tr>\n",
       "  </thead>\n",
       "  <tbody>\n",
       "    <tr>\n",
       "      <th>0</th>\n",
       "      <td>40560834</td>\n",
       "      <td>-27.091400</td>\n",
       "      <td>-48.612150</td>\n",
       "      <td>2022-12-01</td>\n",
       "      <td>2022</td>\n",
       "      <td>12</td>\n",
       "      <td>1</td>\n",
       "    </tr>\n",
       "    <tr>\n",
       "      <th>1</th>\n",
       "      <td>628340205412932131</td>\n",
       "      <td>-27.115776</td>\n",
       "      <td>-48.610996</td>\n",
       "      <td>2022-12-01</td>\n",
       "      <td>2022</td>\n",
       "      <td>12</td>\n",
       "      <td>1</td>\n",
       "    </tr>\n",
       "    <tr>\n",
       "      <th>2</th>\n",
       "      <td>39145712</td>\n",
       "      <td>-27.116170</td>\n",
       "      <td>-48.608290</td>\n",
       "      <td>2022-12-01</td>\n",
       "      <td>2022</td>\n",
       "      <td>12</td>\n",
       "      <td>1</td>\n",
       "    </tr>\n",
       "    <tr>\n",
       "      <th>3</th>\n",
       "      <td>40039627</td>\n",
       "      <td>-27.090200</td>\n",
       "      <td>-48.612450</td>\n",
       "      <td>2022-12-01</td>\n",
       "      <td>2022</td>\n",
       "      <td>12</td>\n",
       "      <td>1</td>\n",
       "    </tr>\n",
       "    <tr>\n",
       "      <th>4</th>\n",
       "      <td>40794806</td>\n",
       "      <td>-27.098660</td>\n",
       "      <td>-48.660700</td>\n",
       "      <td>2022-12-01</td>\n",
       "      <td>2022</td>\n",
       "      <td>12</td>\n",
       "      <td>1</td>\n",
       "    </tr>\n",
       "  </tbody>\n",
       "</table>\n",
       "</div>"
      ],
      "text/plain": [
       "    airbnb_listing_id   latitude  longitude aquisition_date   ano  mes  dia\n",
       "0            40560834 -27.091400 -48.612150      2022-12-01  2022   12    1\n",
       "1  628340205412932131 -27.115776 -48.610996      2022-12-01  2022   12    1\n",
       "2            39145712 -27.116170 -48.608290      2022-12-01  2022   12    1\n",
       "3            40039627 -27.090200 -48.612450      2022-12-01  2022   12    1\n",
       "4            40794806 -27.098660 -48.660700      2022-12-01  2022   12    1"
      ]
     },
     "execution_count": 9,
     "metadata": {},
     "output_type": "execute_result"
    }
   ],
   "source": [
    "mesh.head()"
   ]
  },
  {
   "cell_type": "markdown",
   "id": "5f2e22e9",
   "metadata": {
    "heading_collapsed": true,
    "hidden": true
   },
   "source": [
    "## 1.2 Data Dimensions"
   ]
  },
  {
   "cell_type": "code",
   "execution_count": 10,
   "id": "ef92c61c",
   "metadata": {
    "ExecuteTime": {
     "end_time": "2022-12-23T23:20:32.557835Z",
     "start_time": "2022-12-23T23:20:32.544533Z"
    },
    "hidden": true
   },
   "outputs": [
    {
     "name": "stdout",
     "output_type": "stream",
     "text": [
      "prices\n",
      "Rows qtd: 43020080\n",
      "Columns qtd: 14\n",
      "\n",
      "vivareal\n",
      "Rows qtd: 17547\n",
      "Columns qtd: 42\n",
      "\n",
      "details\n",
      "Rows qtd: 32558\n",
      "Columns qtd: 37\n",
      "\n",
      "hosts\n",
      "Rows qtd: 1357\n",
      "Columns qtd: 12\n",
      "\n",
      "mesh\n",
      "Rows qtd: 2373\n",
      "Columns qtd: 7\n",
      "\n"
     ]
    }
   ],
   "source": [
    "print('prices')\n",
    "print(f'Rows qtd: {prices.shape[0]}')\n",
    "print(f'Columns qtd: {prices.shape[1]}\\n')\n",
    "print('vivareal')\n",
    "print(f'Rows qtd: {vivareal.shape[0]}')\n",
    "print(f'Columns qtd: {vivareal.shape[1]}\\n')\n",
    "print('details')\n",
    "print(f'Rows qtd: {details.shape[0]}')\n",
    "print(f'Columns qtd: {details.shape[1]}\\n')\n",
    "print('hosts')\n",
    "print(f'Rows qtd: {hosts.shape[0]}')\n",
    "print(f'Columns qtd: {hosts.shape[1]}\\n')\n",
    "print('mesh')\n",
    "print(f'Rows qtd: {mesh.shape[0]}')\n",
    "print(f'Columns qtd: {mesh.shape[1]}\\n')"
   ]
  },
  {
   "cell_type": "markdown",
   "id": "5862d1f5",
   "metadata": {
    "heading_collapsed": true,
    "hidden": true
   },
   "source": [
    "## 1.3 Datatypes"
   ]
  },
  {
   "cell_type": "code",
   "execution_count": 11,
   "id": "5bdc3afe",
   "metadata": {
    "ExecuteTime": {
     "end_time": "2022-12-23T23:20:32.573332Z",
     "start_time": "2022-12-23T23:20:32.560154Z"
    },
    "hidden": true
   },
   "outputs": [
    {
     "data": {
      "text/plain": [
       "airbnb_listing_id      int64\n",
       "date                  object\n",
       "price                float64\n",
       "price_string          object\n",
       "minimum_stay           int64\n",
       "available               bool\n",
       "aquisition_date       object\n",
       "av_for_checkin        object\n",
       "av_for_checkout      float64\n",
       "index                float64\n",
       "bookable             float64\n",
       "ano                    int64\n",
       "mes                    int64\n",
       "dia                    int64\n",
       "dtype: object"
      ]
     },
     "execution_count": 11,
     "metadata": {},
     "output_type": "execute_result"
    }
   ],
   "source": [
    "prices.dtypes"
   ]
  },
  {
   "cell_type": "code",
   "execution_count": 12,
   "id": "c86404d6",
   "metadata": {
    "ExecuteTime": {
     "end_time": "2022-12-23T23:20:32.589027Z",
     "start_time": "2022-12-23T23:20:32.574415Z"
    },
    "hidden": true
   },
   "outputs": [
    {
     "data": {
      "text/plain": [
       "host_id                  int64\n",
       "host_name               object\n",
       "host_rating            float64\n",
       "n_reviews                int64\n",
       "n_reviews_from_host      int64\n",
       "n_listings               int64\n",
       "about_host              object\n",
       "comments                object\n",
       "aquisition_date         object\n",
       "ano                      int64\n",
       "mes                      int64\n",
       "dia                      int64\n",
       "dtype: object"
      ]
     },
     "execution_count": 12,
     "metadata": {},
     "output_type": "execute_result"
    }
   ],
   "source": [
    "hosts.dtypes"
   ]
  },
  {
   "cell_type": "code",
   "execution_count": 13,
   "id": "5d95ac4f",
   "metadata": {
    "ExecuteTime": {
     "end_time": "2022-12-23T23:20:32.604609Z",
     "start_time": "2022-12-23T23:20:32.591017Z"
    },
    "hidden": true
   },
   "outputs": [
    {
     "data": {
      "text/plain": [
       "aquisition_date                object\n",
       "url                            object\n",
       "ad_name                        object\n",
       "ad_description                 object\n",
       "ad_id                           int64\n",
       "space                          object\n",
       "house_rules                    object\n",
       "amenities                      object\n",
       "safety_features                object\n",
       "number_of_bathrooms           float64\n",
       "number_of_bedrooms            float64\n",
       "number_of_beds                float64\n",
       "latitude                      float64\n",
       "longitude                     float64\n",
       "star_rating                   float64\n",
       "additional_house_rules         object\n",
       "owner                          object\n",
       "check_in                       object\n",
       "check_out                      object\n",
       "number_of_guests                int64\n",
       "is_superhost                     bool\n",
       "number_of_reviews               int64\n",
       "cohosts                        object\n",
       "cleaning_fee                  float64\n",
       "can_instant_book                 bool\n",
       "owner_id                        int64\n",
       "listing_type                   object\n",
       "index                         float64\n",
       "localized_star_rating          object\n",
       "response_time_shown            object\n",
       "response_rate_shown            object\n",
       "guest_satisfaction_overall    float64\n",
       "picture_count                 float64\n",
       "min_nights                    float64\n",
       "ano                             int64\n",
       "mes                             int64\n",
       "dia                             int64\n",
       "dtype: object"
      ]
     },
     "execution_count": 13,
     "metadata": {},
     "output_type": "execute_result"
    }
   ],
   "source": [
    "details.dtypes"
   ]
  },
  {
   "cell_type": "code",
   "execution_count": 14,
   "id": "cc0507ca",
   "metadata": {
    "ExecuteTime": {
     "end_time": "2022-12-23T23:20:32.620039Z",
     "start_time": "2022-12-23T23:20:32.606606Z"
    },
    "hidden": true
   },
   "outputs": [
    {
     "data": {
      "text/plain": [
       "listing_id                 int64\n",
       "link_name                 object\n",
       "link_url                  object\n",
       "listing_type              object\n",
       "listing_title             object\n",
       "listing_desc              object\n",
       "business_types            object\n",
       "unit_type                 object\n",
       "unit_subtype              object\n",
       "property_type             object\n",
       "usage_type                object\n",
       "sale_price               float64\n",
       "rental_price             float64\n",
       "rental_period             object\n",
       "yearly_iptu              float64\n",
       "monthly_condo_fee        float64\n",
       "amenities                 object\n",
       "usable_area              float64\n",
       "total_area               float64\n",
       "bathrooms                float64\n",
       "bedrooms                 float64\n",
       "suites                   float64\n",
       "parking_spaces           float64\n",
       "address_country           object\n",
       "address_state             object\n",
       "address_city              object\n",
       "address_neighborhood      object\n",
       "address_street            object\n",
       "address_street_number     object\n",
       "address_complement       float64\n",
       "address_zipcode          float64\n",
       "location_id               object\n",
       "advertiser_id             object\n",
       "advertiser_name           object\n",
       "advertiser_phones         object\n",
       "advertiser_whatsapp      float64\n",
       "advertiser_url            object\n",
       "portal                    object\n",
       "aquisition_date           object\n",
       "ano                        int64\n",
       "mes                        int64\n",
       "dia                        int64\n",
       "dtype: object"
      ]
     },
     "execution_count": 14,
     "metadata": {},
     "output_type": "execute_result"
    }
   ],
   "source": [
    "vivareal.dtypes"
   ]
  },
  {
   "cell_type": "code",
   "execution_count": 15,
   "id": "e3db5417",
   "metadata": {
    "ExecuteTime": {
     "end_time": "2022-12-23T23:20:32.635371Z",
     "start_time": "2022-12-23T23:20:32.622199Z"
    },
    "hidden": true
   },
   "outputs": [
    {
     "data": {
      "text/plain": [
       "airbnb_listing_id      int64\n",
       "latitude             float64\n",
       "longitude            float64\n",
       "aquisition_date       object\n",
       "ano                    int64\n",
       "mes                    int64\n",
       "dia                    int64\n",
       "dtype: object"
      ]
     },
     "execution_count": 15,
     "metadata": {},
     "output_type": "execute_result"
    }
   ],
   "source": [
    "mesh.dtypes"
   ]
  },
  {
   "cell_type": "markdown",
   "id": "d6744ce5",
   "metadata": {
    "heading_collapsed": true,
    "hidden": true
   },
   "source": [
    "## 1.4 Check Na"
   ]
  },
  {
   "cell_type": "code",
   "execution_count": 16,
   "id": "e2d7553d",
   "metadata": {
    "ExecuteTime": {
     "end_time": "2022-12-23T23:20:54.932456Z",
     "start_time": "2022-12-23T23:20:32.636375Z"
    },
    "hidden": true
   },
   "outputs": [
    {
     "data": {
      "text/plain": [
       "airbnb_listing_id      0.00\n",
       "date                   0.00\n",
       "price                  0.01\n",
       "price_string           0.00\n",
       "minimum_stay           0.00\n",
       "available              0.00\n",
       "aquisition_date        0.00\n",
       "av_for_checkin         0.09\n",
       "av_for_checkout      100.00\n",
       "index                100.00\n",
       "bookable             100.00\n",
       "ano                    0.00\n",
       "mes                    0.00\n",
       "dia                    0.00\n",
       "dtype: float64"
      ]
     },
     "execution_count": 16,
     "metadata": {},
     "output_type": "execute_result"
    }
   ],
   "source": [
    "round(prices.isna().sum() / prices['airbnb_listing_id'].count() * 100, 2)"
   ]
  },
  {
   "cell_type": "code",
   "execution_count": 17,
   "id": "cf5ff456",
   "metadata": {
    "ExecuteTime": {
     "end_time": "2022-12-23T23:20:54.947763Z",
     "start_time": "2022-12-23T23:20:54.934919Z"
    },
    "hidden": true
   },
   "outputs": [
    {
     "data": {
      "text/plain": [
       "host_id                 0.00\n",
       "host_name               0.00\n",
       "host_rating             0.00\n",
       "n_reviews               0.00\n",
       "n_reviews_from_host     0.00\n",
       "n_listings              0.00\n",
       "about_host             76.05\n",
       "comments               21.81\n",
       "aquisition_date         0.00\n",
       "ano                     0.00\n",
       "mes                     0.00\n",
       "dia                     0.00\n",
       "dtype: float64"
      ]
     },
     "execution_count": 17,
     "metadata": {},
     "output_type": "execute_result"
    }
   ],
   "source": [
    "round(hosts.isna().sum() / hosts['host_id'].count() * 100, 2)"
   ]
  },
  {
   "cell_type": "code",
   "execution_count": 18,
   "id": "47287029",
   "metadata": {
    "ExecuteTime": {
     "end_time": "2022-12-23T23:20:55.039927Z",
     "start_time": "2022-12-23T23:20:54.950638Z"
    },
    "hidden": true
   },
   "outputs": [
    {
     "data": {
      "text/plain": [
       "aquisition_date                0.00\n",
       "url                            0.00\n",
       "ad_name                        0.00\n",
       "ad_description                 5.75\n",
       "ad_id                          0.00\n",
       "space                         47.46\n",
       "house_rules                    9.48\n",
       "amenities                      0.00\n",
       "safety_features                0.00\n",
       "number_of_bathrooms            0.23\n",
       "number_of_bedrooms             1.59\n",
       "number_of_beds                 0.57\n",
       "latitude                       0.00\n",
       "longitude                      0.00\n",
       "star_rating                   47.69\n",
       "additional_house_rules        57.24\n",
       "owner                          0.00\n",
       "check_in                       8.31\n",
       "check_out                     20.60\n",
       "number_of_guests               0.00\n",
       "is_superhost                   0.00\n",
       "number_of_reviews              0.00\n",
       "cohosts                       87.16\n",
       "cleaning_fee                   0.00\n",
       "can_instant_book               0.00\n",
       "owner_id                       0.00\n",
       "listing_type                   0.00\n",
       "index                         72.72\n",
       "localized_star_rating         47.70\n",
       "response_time_shown           90.24\n",
       "response_rate_shown           90.24\n",
       "guest_satisfaction_overall    90.59\n",
       "picture_count                 87.04\n",
       "min_nights                    87.04\n",
       "ano                            0.00\n",
       "mes                            0.00\n",
       "dia                            0.00\n",
       "dtype: float64"
      ]
     },
     "execution_count": 18,
     "metadata": {},
     "output_type": "execute_result"
    }
   ],
   "source": [
    "round(details.isna().sum() / details['aquisition_date'].count() * 100, 2)"
   ]
  },
  {
   "cell_type": "code",
   "execution_count": 19,
   "id": "ac66b6c6",
   "metadata": {
    "ExecuteTime": {
     "end_time": "2022-12-23T23:20:55.118731Z",
     "start_time": "2022-12-23T23:20:55.043008Z"
    },
    "hidden": true
   },
   "outputs": [
    {
     "data": {
      "text/plain": [
       "listing_id                 0.00\n",
       "link_name                  0.00\n",
       "link_url                   0.00\n",
       "listing_type               0.00\n",
       "listing_title              0.06\n",
       "listing_desc               0.54\n",
       "business_types             0.00\n",
       "unit_type                  0.00\n",
       "unit_subtype              98.66\n",
       "property_type              0.00\n",
       "usage_type                 0.00\n",
       "sale_price                 6.42\n",
       "rental_price              93.35\n",
       "rental_period             93.35\n",
       "yearly_iptu               56.64\n",
       "monthly_condo_fee         56.39\n",
       "amenities                  0.00\n",
       "usable_area                0.03\n",
       "total_area                11.81\n",
       "bathrooms                  0.23\n",
       "bedrooms                   0.51\n",
       "suites                     7.06\n",
       "parking_spaces             4.47\n",
       "address_country            0.00\n",
       "address_state              0.00\n",
       "address_city               0.00\n",
       "address_neighborhood       5.37\n",
       "address_street            38.38\n",
       "address_street_number     41.03\n",
       "address_complement       100.00\n",
       "address_zipcode            0.10\n",
       "location_id                0.00\n",
       "advertiser_id              0.00\n",
       "advertiser_name            0.00\n",
       "advertiser_phones          0.00\n",
       "advertiser_whatsapp        7.82\n",
       "advertiser_url             0.00\n",
       "portal                     0.00\n",
       "aquisition_date            0.00\n",
       "ano                        0.00\n",
       "mes                        0.00\n",
       "dia                        0.00\n",
       "dtype: float64"
      ]
     },
     "execution_count": 19,
     "metadata": {},
     "output_type": "execute_result"
    }
   ],
   "source": [
    "round(vivareal.isna().sum() / vivareal['listing_id'].count() * 100, 2)"
   ]
  },
  {
   "cell_type": "code",
   "execution_count": 20,
   "id": "e11848c7",
   "metadata": {
    "ExecuteTime": {
     "end_time": "2022-12-23T23:20:55.134032Z",
     "start_time": "2022-12-23T23:20:55.120621Z"
    },
    "hidden": true
   },
   "outputs": [
    {
     "data": {
      "text/plain": [
       "airbnb_listing_id    0.0\n",
       "latitude             0.0\n",
       "longitude            0.0\n",
       "aquisition_date      0.0\n",
       "ano                  0.0\n",
       "mes                  0.0\n",
       "dia                  0.0\n",
       "dtype: float64"
      ]
     },
     "execution_count": 20,
     "metadata": {},
     "output_type": "execute_result"
    }
   ],
   "source": [
    "round(mesh.isna().sum() / mesh['airbnb_listing_id'].count() * 100, 2)"
   ]
  },
  {
   "cell_type": "markdown",
   "id": "4121387d",
   "metadata": {
    "heading_collapsed": true,
    "hidden": true
   },
   "source": [
    "## 1.5 Fillout Na"
   ]
  },
  {
   "cell_type": "code",
   "execution_count": 21,
   "id": "f19be3a4",
   "metadata": {
    "ExecuteTime": {
     "end_time": "2022-12-23T23:20:55.180368Z",
     "start_time": "2022-12-23T23:20:55.137565Z"
    },
    "hidden": true
   },
   "outputs": [],
   "source": [
    "details = details[~details['number_of_bathrooms'].isna()]\n",
    "details = details[~details['number_of_bedrooms'].isna()]\n",
    "details = details[~details['number_of_beds'].isna()]"
   ]
  },
  {
   "cell_type": "markdown",
   "id": "1a75830f",
   "metadata": {
    "heading_collapsed": true,
    "hidden": true
   },
   "source": [
    "## 1.6 Rename Columns"
   ]
  },
  {
   "cell_type": "code",
   "execution_count": 22,
   "id": "915112f3",
   "metadata": {
    "ExecuteTime": {
     "end_time": "2022-12-23T23:20:55.195501Z",
     "start_time": "2022-12-23T23:20:55.183199Z"
    },
    "hidden": true
   },
   "outputs": [],
   "source": [
    "prices.rename(columns={'airbnb_listing_id':'airbnb_id'}, inplace=True)\n",
    "details.rename(columns={'ad_id':'airbnb_id'}, inplace=True)\n",
    "mesh.rename(columns={'airbnb_listing_id':'airbnb_id'}, inplace=True)"
   ]
  },
  {
   "cell_type": "markdown",
   "id": "ba604648",
   "metadata": {
    "heading_collapsed": true,
    "hidden": true
   },
   "source": [
    "## 1.7 Changing Datatipes"
   ]
  },
  {
   "cell_type": "code",
   "execution_count": 23,
   "id": "5fa37693",
   "metadata": {
    "ExecuteTime": {
     "end_time": "2022-12-23T23:21:51.127056Z",
     "start_time": "2022-12-23T23:20:55.198434Z"
    },
    "hidden": true
   },
   "outputs": [],
   "source": [
    "prices['date'] = pd.to_datetime(prices['date'])\n",
    "prices = prices.sort_values('date')\n",
    "prices['available'] = prices['available'].apply(lambda x: 1 if x==True else 0).astype(int)\n",
    "\n",
    "details['number_of_bathrooms'] = details['number_of_bathrooms'].astype(int)\n",
    "details['number_of_bedrooms'] = details['number_of_bedrooms'].astype(int)\n",
    "details['number_of_beds'] = details['number_of_beds'].astype(int)"
   ]
  },
  {
   "cell_type": "markdown",
   "id": "c8c663dc",
   "metadata": {
    "heading_collapsed": true,
    "hidden": true
   },
   "source": [
    "## 1.8 Data Cleaning"
   ]
  },
  {
   "cell_type": "code",
   "execution_count": 24,
   "id": "e3a894fe",
   "metadata": {
    "ExecuteTime": {
     "end_time": "2022-12-23T23:21:51.673353Z",
     "start_time": "2022-12-23T23:21:51.128966Z"
    },
    "hidden": true
   },
   "outputs": [],
   "source": [
    "details['safety_features'] = details['safety_features'].apply(lambda x: re.sub('[^a-zA-Z0-9\\n.çêó]', ' ', x))\n",
    "details['safety_features'] = details['safety_features'].str.replace(' ', '')\n",
    "details['safety_features'] = details['safety_features'].str.replace('Trancanaportadoquarto','')\n",
    "details['safety_features'] = details['safety_features'].str.replace('u00ea', 'ê')\n",
    "details['safety_features'] = details['safety_features'].str.replace('u00e7', 'ç')\n",
    "details['safety_features'] = details['safety_features'].str.replace('u00f3', 'ó')"
   ]
  },
  {
   "cell_type": "markdown",
   "id": "9adf8b66",
   "metadata": {
    "heading_collapsed": true,
    "hidden": true
   },
   "source": [
    "## 1.9 Integrating Dataframes"
   ]
  },
  {
   "cell_type": "markdown",
   "id": "cde39f92",
   "metadata": {
    "heading_collapsed": true,
    "hidden": true
   },
   "source": [
    "### 1.9.1 Merging"
   ]
  },
  {
   "cell_type": "code",
   "execution_count": 25,
   "id": "73347788",
   "metadata": {
    "ExecuteTime": {
     "end_time": "2022-12-23T23:21:58.298265Z",
     "start_time": "2022-12-23T23:21:51.676097Z"
    },
    "hidden": true
   },
   "outputs": [],
   "source": [
    "df = prices.loc[prices['available']==0, ['airbnb_id', 'date', 'price', 'aquisition_date']]\n",
    "df = df.groupby(['airbnb_id', 'date']).agg({'price':'min', 'aquisition_date':'first'}).reset_index()\n",
    "df.sort_values(['airbnb_id', 'date'], inplace=True)\n",
    "\n",
    "temp = details[['airbnb_id', 'aquisition_date', 'safety_features', 'number_of_bathrooms', 'number_of_bedrooms', 'number_of_beds', 'number_of_guests']]\n",
    "temp = temp.groupby('airbnb_id').agg({'safety_features':'last', 'number_of_bathrooms':'mean', 'number_of_bedrooms':'mean', 'number_of_beds':'mean', 'number_of_guests':'mean'}).reset_index()\n",
    "df = pd.merge(df, temp, on='airbnb_id', how='left')"
   ]
  },
  {
   "cell_type": "markdown",
   "id": "e79a9f74",
   "metadata": {
    "heading_collapsed": true,
    "hidden": true
   },
   "source": [
    "### 1.9.2 Data Dimension"
   ]
  },
  {
   "cell_type": "code",
   "execution_count": 26,
   "id": "4b1f2e40",
   "metadata": {
    "ExecuteTime": {
     "end_time": "2022-12-23T23:21:58.328444Z",
     "start_time": "2022-12-23T23:21:58.309429Z"
    },
    "hidden": true
   },
   "outputs": [
    {
     "data": {
      "text/plain": [
       "(436867, 9)"
      ]
     },
     "execution_count": 26,
     "metadata": {},
     "output_type": "execute_result"
    }
   ],
   "source": [
    "df.shape"
   ]
  },
  {
   "cell_type": "code",
   "execution_count": 27,
   "id": "0a1c1673",
   "metadata": {
    "ExecuteTime": {
     "end_time": "2022-12-23T23:21:58.343837Z",
     "start_time": "2022-12-23T23:21:58.330969Z"
    },
    "hidden": true
   },
   "outputs": [
    {
     "data": {
      "text/plain": [
       "(436867, 9)"
      ]
     },
     "execution_count": 27,
     "metadata": {},
     "output_type": "execute_result"
    }
   ],
   "source": [
    "df.shape"
   ]
  },
  {
   "cell_type": "code",
   "execution_count": 28,
   "id": "81863588",
   "metadata": {
    "ExecuteTime": {
     "end_time": "2022-12-23T23:21:58.359102Z",
     "start_time": "2022-12-23T23:21:58.345855Z"
    },
    "hidden": true
   },
   "outputs": [
    {
     "name": "stdout",
     "output_type": "stream",
     "text": [
      "Quantity of rows: 436867\n",
      "Quantity of columns: 9\n"
     ]
    }
   ],
   "source": [
    "print(f'Quantity of rows: {df.shape[0]}')\n",
    "print(f'Quantity of columns: {df.shape[1]}')"
   ]
  },
  {
   "cell_type": "code",
   "execution_count": 29,
   "id": "cd41c674",
   "metadata": {
    "ExecuteTime": {
     "end_time": "2022-12-23T23:21:58.389985Z",
     "start_time": "2022-12-23T23:21:58.361595Z"
    },
    "hidden": true
   },
   "outputs": [
    {
     "data": {
      "text/plain": [
       "2274"
      ]
     },
     "execution_count": 29,
     "metadata": {},
     "output_type": "execute_result"
    }
   ],
   "source": [
    "len(df['airbnb_id'].drop_duplicates())"
   ]
  },
  {
   "cell_type": "markdown",
   "id": "91fbc399",
   "metadata": {
    "heading_collapsed": true,
    "hidden": true
   },
   "source": [
    "### 1.9.3 Check Na"
   ]
  },
  {
   "cell_type": "code",
   "execution_count": 30,
   "id": "7e79bad6",
   "metadata": {
    "ExecuteTime": {
     "end_time": "2022-12-23T23:21:58.528951Z",
     "start_time": "2022-12-23T23:21:58.391979Z"
    },
    "hidden": true
   },
   "outputs": [
    {
     "data": {
      "text/plain": [
       "airbnb_id                 0\n",
       "date                      0\n",
       "price                     0\n",
       "aquisition_date           0\n",
       "safety_features        9626\n",
       "number_of_bathrooms    9626\n",
       "number_of_bedrooms     9626\n",
       "number_of_beds         9626\n",
       "number_of_guests       9626\n",
       "dtype: int64"
      ]
     },
     "execution_count": 30,
     "metadata": {},
     "output_type": "execute_result"
    }
   ],
   "source": [
    "df.isna().sum()"
   ]
  },
  {
   "cell_type": "markdown",
   "id": "f655ecdc",
   "metadata": {
    "heading_collapsed": true,
    "hidden": true
   },
   "source": [
    "### 1.9.4 Fillout Na"
   ]
  },
  {
   "cell_type": "code",
   "execution_count": 31,
   "id": "aca821d4",
   "metadata": {
    "ExecuteTime": {
     "end_time": "2022-12-23T23:21:58.747131Z",
     "start_time": "2022-12-23T23:21:58.533044Z"
    },
    "hidden": true
   },
   "outputs": [],
   "source": [
    "df.dropna(inplace=True)"
   ]
  },
  {
   "cell_type": "markdown",
   "id": "ff526995",
   "metadata": {
    "heading_collapsed": true,
    "hidden": true
   },
   "source": [
    "## 1.10 Descriptive Statistical"
   ]
  },
  {
   "cell_type": "code",
   "execution_count": 32,
   "id": "66cb36db",
   "metadata": {
    "ExecuteTime": {
     "end_time": "2022-12-23T23:21:58.762311Z",
     "start_time": "2022-12-23T23:21:58.749542Z"
    },
    "hidden": true
   },
   "outputs": [],
   "source": [
    "num_attributes = ['price', 'number_of_bathrooms', 'number_of_bedrooms', 'number_of_beds', 'number_of_guests']"
   ]
  },
  {
   "cell_type": "markdown",
   "id": "123ad64e",
   "metadata": {
    "heading_collapsed": true,
    "hidden": true
   },
   "source": [
    "### 1.10.1 Numerical Attributes"
   ]
  },
  {
   "cell_type": "code",
   "execution_count": 33,
   "id": "27c07da1",
   "metadata": {
    "ExecuteTime": {
     "end_time": "2022-12-23T23:21:59.305842Z",
     "start_time": "2022-12-23T23:21:58.768229Z"
    },
    "hidden": true
   },
   "outputs": [
    {
     "data": {
      "text/html": [
       "<div>\n",
       "<style scoped>\n",
       "    .dataframe tbody tr th:only-of-type {\n",
       "        vertical-align: middle;\n",
       "    }\n",
       "\n",
       "    .dataframe tbody tr th {\n",
       "        vertical-align: top;\n",
       "    }\n",
       "\n",
       "    .dataframe thead th {\n",
       "        text-align: right;\n",
       "    }\n",
       "</style>\n",
       "<table border=\"1\" class=\"dataframe\">\n",
       "  <thead>\n",
       "    <tr style=\"text-align: right;\">\n",
       "      <th></th>\n",
       "      <th>min</th>\n",
       "      <th>max</th>\n",
       "      <th>range</th>\n",
       "      <th>mean</th>\n",
       "      <th>median</th>\n",
       "      <th>std</th>\n",
       "      <th>skew</th>\n",
       "      <th>kurtosis</th>\n",
       "    </tr>\n",
       "  </thead>\n",
       "  <tbody>\n",
       "    <tr>\n",
       "      <th>price</th>\n",
       "      <td>48.0</td>\n",
       "      <td>500900.0</td>\n",
       "      <td>500852.0</td>\n",
       "      <td>1192.299777</td>\n",
       "      <td>450.0</td>\n",
       "      <td>12553.794220</td>\n",
       "      <td>27.137698</td>\n",
       "      <td>822.101328</td>\n",
       "    </tr>\n",
       "    <tr>\n",
       "      <th>number_of_bathrooms</th>\n",
       "      <td>0.0</td>\n",
       "      <td>12.0</td>\n",
       "      <td>12.0</td>\n",
       "      <td>2.126669</td>\n",
       "      <td>2.0</td>\n",
       "      <td>0.876547</td>\n",
       "      <td>1.131108</td>\n",
       "      <td>3.981061</td>\n",
       "    </tr>\n",
       "    <tr>\n",
       "      <th>number_of_bedrooms</th>\n",
       "      <td>1.0</td>\n",
       "      <td>12.0</td>\n",
       "      <td>11.0</td>\n",
       "      <td>2.561916</td>\n",
       "      <td>3.0</td>\n",
       "      <td>0.875667</td>\n",
       "      <td>0.552405</td>\n",
       "      <td>2.688780</td>\n",
       "    </tr>\n",
       "    <tr>\n",
       "      <th>number_of_beds</th>\n",
       "      <td>0.0</td>\n",
       "      <td>50.0</td>\n",
       "      <td>50.0</td>\n",
       "      <td>3.691886</td>\n",
       "      <td>3.0</td>\n",
       "      <td>1.883445</td>\n",
       "      <td>2.377319</td>\n",
       "      <td>21.535771</td>\n",
       "    </tr>\n",
       "    <tr>\n",
       "      <th>number_of_guests</th>\n",
       "      <td>1.0</td>\n",
       "      <td>16.0</td>\n",
       "      <td>15.0</td>\n",
       "      <td>6.719911</td>\n",
       "      <td>6.0</td>\n",
       "      <td>2.488196</td>\n",
       "      <td>0.732132</td>\n",
       "      <td>1.846770</td>\n",
       "    </tr>\n",
       "  </tbody>\n",
       "</table>\n",
       "</div>"
      ],
      "text/plain": [
       "                      min       max     range         mean  median  \\\n",
       "price                48.0  500900.0  500852.0  1192.299777   450.0   \n",
       "number_of_bathrooms   0.0      12.0      12.0     2.126669     2.0   \n",
       "number_of_bedrooms    1.0      12.0      11.0     2.561916     3.0   \n",
       "number_of_beds        0.0      50.0      50.0     3.691886     3.0   \n",
       "number_of_guests      1.0      16.0      15.0     6.719911     6.0   \n",
       "\n",
       "                              std       skew    kurtosis  \n",
       "price                12553.794220  27.137698  822.101328  \n",
       "number_of_bathrooms      0.876547   1.131108    3.981061  \n",
       "number_of_bedrooms       0.875667   0.552405    2.688780  \n",
       "number_of_beds           1.883445   2.377319   21.535771  \n",
       "number_of_guests         2.488196   0.732132    1.846770  "
      ]
     },
     "execution_count": 33,
     "metadata": {},
     "output_type": "execute_result"
    }
   ],
   "source": [
    "# Central tendency\n",
    "ct1 = pd.DataFrame(df[num_attributes].apply(np.mean)).T\n",
    "ct2 = pd.DataFrame(df[num_attributes].apply(np.median)).T\n",
    "\n",
    "# Dispersion\n",
    "d1 = pd.DataFrame(df[num_attributes].apply(np.std)).T\n",
    "d2 = pd.DataFrame(df[num_attributes].apply(min)).T\n",
    "d3 = pd.DataFrame(df[num_attributes].apply(max)).T\n",
    "d4 = pd.DataFrame(df[num_attributes].apply(lambda x: x.max() - x.min())).T\n",
    "d5 = pd.DataFrame(df[num_attributes].apply(lambda x: x.skew())).T\n",
    "d6 = pd.DataFrame(df[num_attributes].apply(lambda x: x.kurtosis())).T\n",
    "\n",
    "# Concat\n",
    "temp = pd.concat([d2, d3, d4, ct1, ct2, d1, d5, d6]).T\n",
    "temp.columns = 'min max range mean median std skew kurtosis'.split()\n",
    "temp"
   ]
  },
  {
   "cell_type": "code",
   "execution_count": 34,
   "id": "03e9614c",
   "metadata": {
    "ExecuteTime": {
     "end_time": "2022-12-23T23:21:59.787461Z",
     "start_time": "2022-12-23T23:21:59.308412Z"
    },
    "hidden": true
   },
   "outputs": [
    {
     "data": {
      "text/plain": [
       "<AxesSubplot: >"
      ]
     },
     "execution_count": 34,
     "metadata": {},
     "output_type": "execute_result"
    },
    {
     "data": {
      "image/png": "[encoded data removed]",
      "text/plain": [
       "<Figure size 640x480 with 2 Axes>"
      ]
     },
     "metadata": {},
     "output_type": "display_data"
    }
   ],
   "source": [
    "sns.heatmap(df[num_attributes].corr(), annot=True)"
   ]
  },
  {
   "cell_type": "markdown",
   "id": "e2d6181b",
   "metadata": {
    "heading_collapsed": true,
    "hidden": true
   },
   "source": [
    "### 1.10.2 Categorical Attributes"
   ]
  },
  {
   "cell_type": "code",
   "execution_count": null,
   "id": "283f7427",
   "metadata": {
    "hidden": true
   },
   "outputs": [],
   "source": []
  },
  {
   "cell_type": "markdown",
   "id": "2a025cc5",
   "metadata": {
    "heading_collapsed": true
   },
   "source": [
    "# 2.0 Feature Engineering"
   ]
  },
  {
   "cell_type": "code",
   "execution_count": 35,
   "id": "ed10d971",
   "metadata": {
    "ExecuteTime": {
     "end_time": "2022-12-23T23:22:00.161315Z",
     "start_time": "2022-12-23T23:21:59.790536Z"
    },
    "hidden": true
   },
   "outputs": [],
   "source": [
    "# date range\n",
    "max_date = prices['date'].max().strftime('%Y-%m-%d')\n",
    "min_date = prices['date'].min().strftime('%Y-%m-%d')\n",
    "min_date = pd.to_datetime(min_date)\n",
    "max_date = pd.to_datetime(max_date)\n",
    "date_delta = (max_date - min_date).days\n",
    "\n",
    "# data reference\n",
    "df_ref = df[['airbnb_id']].drop_duplicates(ignore_index=True)\n",
    "\n",
    "# lifetime value\n",
    "temp = df.groupby('airbnb_id').agg({'price':'sum'}).reset_index().rename(columns=({'price':'gross_revenue'}))\n",
    "df_ref = pd.merge(df_ref, temp, on='airbnb_id', how='left')\n",
    "\n",
    "# recency\n",
    "temp = df.groupby('airbnb_id').agg({'date':'max'}).reset_index().rename(columns=({'date':'last_revenue'}))\n",
    "temp['recency'] = (max_date - temp['last_revenue']).dt.days\n",
    "temp.drop(['last_revenue'], axis=1, inplace=True)\n",
    "df_ref = pd.merge(df_ref, temp, on='airbnb_id', how='left')\n",
    "\n",
    "# frequency\n",
    "temp = df.groupby('airbnb_id').agg({'price':'count'}).reset_index().rename(columns=({'price':'quantity_sell'}))\n",
    "temp['frequency'] = date_delta / temp['quantity_sell']\n",
    "temp.drop('quantity_sell', axis=1, inplace=True)\n",
    "df_ref = pd.merge(df_ref, temp, on='airbnb_id', how='left')"
   ]
  },
  {
   "cell_type": "markdown",
   "id": "0e0e92ea",
   "metadata": {
    "heading_collapsed": true
   },
   "source": [
    "# 3.0 Exploratory Data Analysis"
   ]
  },
  {
   "cell_type": "code",
   "execution_count": null,
   "id": "69d7ac50",
   "metadata": {
    "hidden": true
   },
   "outputs": [],
   "source": []
  },
  {
   "cell_type": "markdown",
   "id": "d7b0d0ee",
   "metadata": {
    "heading_collapsed": true
   },
   "source": [
    "# 4.0 Data Filtering"
   ]
  },
  {
   "cell_type": "markdown",
   "id": "e3c28488",
   "metadata": {
    "heading_collapsed": true,
    "hidden": true
   },
   "source": [
    "## 4.1 Columns Filtering"
   ]
  },
  {
   "cell_type": "code",
   "execution_count": null,
   "id": "5496a1b5",
   "metadata": {
    "hidden": true
   },
   "outputs": [],
   "source": []
  },
  {
   "cell_type": "markdown",
   "id": "74500da4",
   "metadata": {
    "heading_collapsed": true,
    "hidden": true
   },
   "source": [
    "## 4.2 Rows Filtering"
   ]
  },
  {
   "cell_type": "code",
   "execution_count": null,
   "id": "49c1b2bf",
   "metadata": {
    "ExecuteTime": {
     "start_time": "2022-12-23T22:48:54.195Z"
    },
    "hidden": true
   },
   "outputs": [],
   "source": []
  },
  {
   "cell_type": "markdown",
   "id": "1e184ecb",
   "metadata": {
    "heading_collapsed": true
   },
   "source": [
    "# 5.0 Data Preparation"
   ]
  },
  {
   "cell_type": "code",
   "execution_count": null,
   "id": "9d578871",
   "metadata": {
    "hidden": true
   },
   "outputs": [],
   "source": []
  },
  {
   "cell_type": "markdown",
   "id": "496b3462",
   "metadata": {
    "heading_collapsed": true
   },
   "source": [
    "# 6.0 Feature Selection"
   ]
  },
  {
   "cell_type": "code",
   "execution_count": null,
   "id": "65919f99",
   "metadata": {
    "hidden": true
   },
   "outputs": [],
   "source": []
  },
  {
   "cell_type": "markdown",
   "id": "cf3cfe4b",
   "metadata": {
    "heading_collapsed": true
   },
   "source": [
    "# 7.0 Hyperparameter Fine-tuning"
   ]
  },
  {
   "cell_type": "code",
   "execution_count": null,
   "id": "3bed056a",
   "metadata": {
    "hidden": true
   },
   "outputs": [],
   "source": []
  },
  {
   "cell_type": "markdown",
   "id": "cf8e1fbe",
   "metadata": {
    "heading_collapsed": true
   },
   "source": [
    "# 8.0 Clustering Model Training"
   ]
  }
 ],
 "metadata": {
  "kernelspec": {
   "display_name": "Python 3 (ipykernel)",
   "language": "python",
   "name": "python3"
  },
  "language_info": {
   "codemirror_mode": {
    "name": "ipython",
    "version": 3
   },
   "file_extension": ".py",
   "mimetype": "text/x-python",
   "name": "python",
   "nbconvert_exporter": "python",
   "pygments_lexer": "ipython3",
   "version": "3.9.13"
  }
 },
 "nbformat": 4,
 "nbformat_minor": 5
}
